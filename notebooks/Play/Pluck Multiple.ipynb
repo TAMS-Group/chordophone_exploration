{
 "cells": [
  {
   "cell_type": "code",
   "execution_count": 1,
   "metadata": {},
   "outputs": [],
   "source": [
    "from tams_pr2_guzheng.onset_to_path import OnsetToPath\n",
    "from tams_pr2_guzheng.msg import (\n",
    "    RunEpisodeAction,\n",
    "    RunEpisodeGoal,\n",
    "    RunEpisodeActionResult,\n",
    "    RunEpisodeResult,\n",
    "    ExecutePathAction,\n",
    "    ExecutePathGoal\n",
    ")\n",
    "from music_perception.msg import NoteOnset\n",
    "from tams_pr2_guzheng.utils import row_from_result, stitch_paths, run_params\n",
    "\n",
    "from tams_pr2_guzheng.paths import RuckigPath\n",
    "\n",
    "import copy"
   ]
  },
  {
   "cell_type": "code",
   "execution_count": 2,
   "metadata": {},
   "outputs": [],
   "source": [
    "import rospy\n",
    "rospy.init_node('jupyter_playground')\n",
    "import tf2_ros\n",
    "import tf2_geometry_msgs\n",
    "import actionlib\n",
    "\n",
    "tf= tf2_ros.Buffer()\n",
    "tf_listener= tf2_ros.TransformListener(tf)"
   ]
  },
  {
   "cell_type": "code",
   "execution_count": 3,
   "metadata": {},
   "outputs": [
    {
     "data": {
      "text/plain": [
       "True"
      ]
     },
     "execution_count": 3,
     "metadata": {},
     "output_type": "execute_result"
    }
   ],
   "source": [
    "run_episode = actionlib.SimpleActionClient('run_episode', RunEpisodeAction)\n",
    "run_episode.wait_for_server()"
   ]
  },
  {
   "cell_type": "code",
   "execution_count": 4,
   "metadata": {},
   "outputs": [
    {
     "data": {
      "text/plain": [
       "True"
      ]
     },
     "execution_count": 4,
     "metadata": {},
     "output_type": "execute_result"
    }
   ],
   "source": [
    "execute_path = actionlib.SimpleActionClient('pluck/execute_path', ExecutePathAction)\n",
    "execute_path.wait_for_server()"
   ]
  },
  {
   "cell_type": "code",
   "execution_count": 5,
   "metadata": {},
   "outputs": [],
   "source": [
    "o2p= OnsetToPath()"
   ]
  },
  {
   "cell_type": "code",
   "execution_count": 49,
   "metadata": {},
   "outputs": [
    {
     "data": {
      "text/html": [
       "<div>\n",
       "<style scoped>\n",
       "    .dataframe tbody tr th:only-of-type {\n",
       "        vertical-align: middle;\n",
       "    }\n",
       "\n",
       "    .dataframe tbody tr th {\n",
       "        vertical-align: top;\n",
       "    }\n",
       "\n",
       "    .dataframe thead th {\n",
       "        text-align: right;\n",
       "    }\n",
       "</style>\n",
       "<table border=\"1\" class=\"dataframe\">\n",
       "  <thead>\n",
       "    <tr style=\"text-align: right;\">\n",
       "      <th></th>\n",
       "      <th>note</th>\n",
       "      <th>max_vel_y</th>\n",
       "      <th>max_vel_z</th>\n",
       "      <th>max_acc_y</th>\n",
       "      <th>max_acc_z</th>\n",
       "      <th>max_jerk_y</th>\n",
       "      <th>max_jerk_z</th>\n",
       "      <th>pre_y</th>\n",
       "      <th>pre_z</th>\n",
       "      <th>post_y</th>\n",
       "      <th>post_z</th>\n",
       "      <th>keypoint_pos_y</th>\n",
       "      <th>keypoint_pos_z</th>\n",
       "      <th>keypoint_vel_y</th>\n",
       "      <th>keypoint_vel_z</th>\n",
       "      <th>string_position</th>\n",
       "      <th>loudness</th>\n",
       "      <th>detected_note</th>\n",
       "      <th>onset_cnt</th>\n",
       "      <th>onsets</th>\n",
       "    </tr>\n",
       "  </thead>\n",
       "  <tbody>\n",
       "    <tr>\n",
       "      <th>0</th>\n",
       "      <td>d5</td>\n",
       "      <td>0.1</td>\n",
       "      <td>0.1</td>\n",
       "      <td>1</td>\n",
       "      <td>1.5</td>\n",
       "      <td>8</td>\n",
       "      <td>8</td>\n",
       "      <td>-0.015</td>\n",
       "      <td>0.015</td>\n",
       "      <td>0.01</td>\n",
       "      <td>0.02</td>\n",
       "      <td>0.000384</td>\n",
       "      <td>-0.000894</td>\n",
       "      <td>0.005152</td>\n",
       "      <td>0.020390</td>\n",
       "      <td>0.05</td>\n",
       "      <td>25.706879</td>\n",
       "      <td>D5</td>\n",
       "      <td>1</td>\n",
       "      <td>{'confidence': 0.9698290229000001, 'duration':...</td>\n",
       "    </tr>\n",
       "    <tr>\n",
       "      <th>1</th>\n",
       "      <td>e5</td>\n",
       "      <td>0.1</td>\n",
       "      <td>0.1</td>\n",
       "      <td>1</td>\n",
       "      <td>1.5</td>\n",
       "      <td>8</td>\n",
       "      <td>8</td>\n",
       "      <td>-0.015</td>\n",
       "      <td>0.015</td>\n",
       "      <td>0.01</td>\n",
       "      <td>0.02</td>\n",
       "      <td>0.003526</td>\n",
       "      <td>-0.001818</td>\n",
       "      <td>0.008596</td>\n",
       "      <td>0.023683</td>\n",
       "      <td>0.05</td>\n",
       "      <td>23.427002</td>\n",
       "      <td>E5</td>\n",
       "      <td>1</td>\n",
       "      <td>{'confidence': 0.9356595278000001, 'duration':...</td>\n",
       "    </tr>\n",
       "  </tbody>\n",
       "</table>\n",
       "</div>"
      ],
      "text/plain": [
       "  note  max_vel_y  max_vel_z  max_acc_y  max_acc_z  max_jerk_y  max_jerk_z  \\\n",
       "0   d5        0.1        0.1          1        1.5           8           8   \n",
       "1   e5        0.1        0.1          1        1.5           8           8   \n",
       "\n",
       "   pre_y  pre_z  post_y  post_z  keypoint_pos_y  keypoint_pos_z  \\\n",
       "0 -0.015  0.015    0.01    0.02        0.000384       -0.000894   \n",
       "1 -0.015  0.015    0.01    0.02        0.003526       -0.001818   \n",
       "\n",
       "   keypoint_vel_y  keypoint_vel_z  string_position   loudness detected_note  \\\n",
       "0        0.005152        0.020390             0.05  25.706879            D5   \n",
       "1        0.008596        0.023683             0.05  23.427002            E5   \n",
       "\n",
       "   onset_cnt                                             onsets  \n",
       "0          1  {'confidence': 0.9698290229000001, 'duration':...  \n",
       "1          1  {'confidence': 0.9356595278000001, 'duration':...  "
      ]
     },
     "execution_count": 49,
     "metadata": {},
     "output_type": "execute_result"
    }
   ],
   "source": [
    "o2p.pluck_table"
   ]
  },
  {
   "cell_type": "code",
   "execution_count": 19,
   "metadata": {},
   "outputs": [],
   "source": [
    "example_note = 'e5'"
   ]
  },
  {
   "cell_type": "code",
   "execution_count": 10,
   "metadata": {},
   "outputs": [],
   "source": [
    "# run real episode\n",
    "params = RuckigPath.random(note = 'e4', direction= 1.0, string_position= 0.05)\n",
    "run_params(run_episode, params)\n",
    "result = run_episode.get_result()\n",
    "row = row_from_result(result)\n",
    "o2p.add_sample(row)"
   ]
  },
  {
   "cell_type": "code",
   "execution_count": 7,
   "metadata": {},
   "outputs": [],
   "source": [
    "# or add stub pluck\n",
    "g = RunEpisodeResult()\n",
    "g.parameters = RuckigPath.random(note= example_note, string_position= 0.1).action_parameters\n",
    "o = NoteOnset()\n",
    "o.confidence = 1.0\n",
    "o.loudness = 6.0\n",
    "o.note = example_note\n",
    "g.onsets.append(o)\n",
    "row = row_from_result(g)\n",
    "o2p.add_sample(row)"
   ]
  },
  {
   "cell_type": "code",
   "execution_count": 40,
   "metadata": {},
   "outputs": [],
   "source": [
    "melody=['d5', 'e5', 'fis5', 'a5', 'd6']\n",
    "melody=[n.upper().replace('IS', '♯') for n in melody]"
   ]
  },
  {
   "cell_type": "code",
   "execution_count": 41,
   "metadata": {},
   "outputs": [],
   "source": [
    "paths= []\n",
    "for n in melody:\n",
    "    p = o2p.get_path(note=n, loudness= 3.0)\n",
    "    approach_path = copy.deepcopy(p)\n",
    "    approach_path.poses = approach_path.poses[0:1]\n",
    "    approach_pose = copy.deepcopy(approach_path.poses[0])\n",
    "    approach_pose.pose.position.z += 0.020\n",
    "    approach_path.poses.insert(0, approach_pose)\n",
    "    paths.append(approach_path)\n",
    "    paths.append(p)"
   ]
  },
  {
   "cell_type": "code",
   "execution_count": 42,
   "metadata": {},
   "outputs": [],
   "source": [
    "stitched_path = stitch_paths(paths, tf)"
   ]
  },
  {
   "cell_type": "code",
   "execution_count": 44,
   "metadata": {},
   "outputs": [
    {
     "data": {
      "text/plain": [
       "True"
      ]
     },
     "execution_count": 44,
     "metadata": {},
     "output_type": "execute_result"
    }
   ],
   "source": [
    "execute_path.send_goal(ExecutePathGoal(path= stitched_path, finger= 'ff'))\n",
    "execute_path.wait_for_result()"
   ]
  },
  {
   "cell_type": "code",
   "execution_count": null,
   "metadata": {},
   "outputs": [],
   "source": []
  }
 ],
 "metadata": {
  "kernelspec": {
   "display_name": "venv",
   "language": "python",
   "name": "python3"
  },
  "language_info": {
   "codemirror_mode": {
    "name": "ipython",
    "version": 3
   },
   "file_extension": ".py",
   "mimetype": "text/x-python",
   "name": "python",
   "nbconvert_exporter": "python",
   "pygments_lexer": "ipython3",
   "version": "3.8.10"
  },
  "orig_nbformat": 4
 },
 "nbformat": 4,
 "nbformat_minor": 2
}
