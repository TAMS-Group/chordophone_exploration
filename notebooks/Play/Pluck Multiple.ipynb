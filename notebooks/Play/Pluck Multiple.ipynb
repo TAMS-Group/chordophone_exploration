{
 "cells": [
  {
   "cell_type": "code",
   "execution_count": null,
   "metadata": {},
   "outputs": [],
   "source": [
    "from tams_pr2_guzheng.onset_to_path import OnsetToPath\n",
    "from tams_pr2_guzheng.msg import RunEpisodeAction, RunEpisodeGoal, RunEpisodeResult, ExecutePathAction, ExecutePathGoal\n",
    "from music_perception.msg import NoteOnset\n",
    "from tams_pr2_guzheng.utils import row_from_result, stitch_paths, run_params\n",
    "\n",
    "from tams_pr2_guzheng.paths import RuckigPath\n"
   ]
  },
  {
   "cell_type": "code",
   "execution_count": 2,
   "metadata": {},
   "outputs": [],
   "source": [
    "import rospy\n",
    "rospy.init_node('jupyter_playground')\n",
    "import tf2_ros\n",
    "import tf2_geometry_msgs\n",
    "import actionlib\n",
    "\n",
    "tf= tf2_ros.Buffer()\n",
    "tf_listener= tf2_ros.TransformListener(tf)"
   ]
  },
  {
   "cell_type": "code",
   "execution_count": null,
   "metadata": {},
   "outputs": [],
   "source": [
    "run_episode = actionlib.SimpleActionClient('run_episode', RunEpisodeAction)\n",
    "run_episode.wait_for_server()"
   ]
  },
  {
   "cell_type": "code",
   "execution_count": null,
   "metadata": {},
   "outputs": [],
   "source": [
    "execute_path = actionlib.SimpleActionClient('pluck/execute_path', ExecutePathAction)\n",
    "execute_path.wait_for_server()"
   ]
  },
  {
   "cell_type": "code",
   "execution_count": 6,
   "metadata": {},
   "outputs": [],
   "source": [
    "o2p= OnsetToPath()"
   ]
  },
  {
   "cell_type": "code",
   "execution_count": null,
   "metadata": {},
   "outputs": [],
   "source": [
    "# run real episode\n",
    "params = RuckigPath.random(note = 'd6', direction= 1.0, string_position= 0.05)\n",
    "run_params(run_episode, params)\n",
    "result = run_episode.get_result()\n",
    "row = row_from_result(result)\n",
    "o2p.add_sample(row)"
   ]
  },
  {
   "cell_type": "code",
   "execution_count": 7,
   "metadata": {},
   "outputs": [],
   "source": [
    "# or add stub pluck\n",
    "example_note = 'd6'\n",
    "g = RunEpisodeResult()\n",
    "g.parameters = RuckigPath.random(note= example_note, string_position= 0.1).action_parameters\n",
    "o = NoteOnset()\n",
    "o.confidence = 1.0\n",
    "o.loudness = 6.0\n",
    "o.note = example_note\n",
    "g.onsets.append(o)\n",
    "row = row_from_result(g)\n",
    "o2p.add_sample(row)"
   ]
  },
  {
   "cell_type": "code",
   "execution_count": 8,
   "metadata": {},
   "outputs": [],
   "source": [
    "p = o2p.get_path(note=example_note, loudness= 3.0)"
   ]
  },
  {
   "cell_type": "code",
   "execution_count": null,
   "metadata": {},
   "outputs": [],
   "source": [
    "approach_path = copy.deepcopy(p)\n",
    "approach_path.poses = approach_path.poses[0:1]\n",
    "approach_pose = copy.deepcopy(approach_path.poses[0])\n",
    "approach_pose.pose.position.z += 0.020\n",
    "approach_path.poses.insert(0, approach_pose)"
   ]
  },
  {
   "cell_type": "code",
   "execution_count": 15,
   "metadata": {},
   "outputs": [],
   "source": [
    "full_path = stitch_paths((p,p), tf)"
   ]
  },
  {
   "cell_type": "code",
   "execution_count": null,
   "metadata": {},
   "outputs": [],
   "source": [
    "execute_path.send_goal(ExecutePathGoal(path= full_path, finger= 'ff'))\n",
    "execute_path.wait_for_result()"
   ]
  }
 ],
 "metadata": {
  "kernelspec": {
   "display_name": "venv",
   "language": "python",
   "name": "python3"
  },
  "language_info": {
   "codemirror_mode": {
    "name": "ipython",
    "version": 3
   },
   "file_extension": ".py",
   "mimetype": "text/x-python",
   "name": "python",
   "nbconvert_exporter": "python",
   "pygments_lexer": "ipython3",
   "version": "3.11.2"
  },
  "orig_nbformat": 4
 },
 "nbformat": 4,
 "nbformat_minor": 2
}
