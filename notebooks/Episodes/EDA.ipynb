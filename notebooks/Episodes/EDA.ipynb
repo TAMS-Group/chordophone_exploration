{
 "cells": [
  {
   "cell_type": "code",
   "execution_count": 28,
   "id": "f91858a6-26d5-4dc9-84a3-4c6b9ee8fd65",
   "metadata": {},
   "outputs": [],
   "source": [
    "import rosbag\n",
    "from matplotlib import pyplot as plt"
   ]
  },
  {
   "cell_type": "code",
   "execution_count": 35,
   "id": "c8531ace-bbad-49e2-bf16-f2955ab539ed",
   "metadata": {},
   "outputs": [],
   "source": [
    "import tams_pr2_guzheng"
   ]
  },
  {
   "cell_type": "code",
   "execution_count": 36,
   "id": "b77099f8-3d8f-4008-8741-cf5578b1c7f8",
   "metadata": {},
   "outputs": [],
   "source": [
    "bag_name = '../../../../bags/guzheng_first_episodes_all_information_to_integrate_into_PluckEpisodeV1_2022-08-26-21-58-14_extracted_episodes.bag'\n",
    "bag = rosbag.Bag(bag_name)\n",
    "episodes = [m for t,m,_ in bag.read_messages()]"
   ]
  },
  {
   "cell_type": "code",
   "execution_count": 37,
   "id": "a5d7eece-c0c5-4616-8eb1-9b4fb3819c1b",
   "metadata": {},
   "outputs": [
    {
     "data": {
      "text/plain": [
       "38"
      ]
     },
     "execution_count": 37,
     "metadata": {},
     "output_type": "execute_result"
    }
   ],
   "source": [
    "len(episodes)"
   ]
  },
  {
   "cell_type": "code",
   "execution_count": 39,
   "id": "19a58d11-05d2-4972-8420-c989a83c26f2",
   "metadata": {},
   "outputs": [],
   "source": [
    "e = episodes[32]"
   ]
  },
  {
   "cell_type": "code",
   "execution_count": 6,
   "id": "ac43a5ff-99db-4409-9932-2f45016dbe00",
   "metadata": {},
   "outputs": [
    {
     "data": {
      "text/plain": [
       "2.641455412"
      ]
     },
     "execution_count": 6,
     "metadata": {},
     "output_type": "execute_result"
    }
   ],
   "source": [
    "e.length.to_sec()"
   ]
  },
  {
   "cell_type": "code",
   "execution_count": 7,
   "id": "5f705fa3-539c-4757-b10a-5717370d4aa6",
   "metadata": {},
   "outputs": [
    {
     "data": {
      "text/plain": [
       "'ff'"
      ]
     },
     "execution_count": 7,
     "metadata": {},
     "output_type": "execute_result"
    }
   ],
   "source": [
    "e.finger"
   ]
  },
  {
   "cell_type": "code",
   "execution_count": 8,
   "id": "5fd67e7f-84e0-4097-85e4-1107759902c3",
   "metadata": {},
   "outputs": [
    {
     "data": {
      "text/plain": [
       "'b5'"
      ]
     },
     "execution_count": 8,
     "metadata": {},
     "output_type": "execute_result"
    }
   ],
   "source": [
    "e.string"
   ]
  },
  {
   "cell_type": "code",
   "execution_count": 40,
   "id": "99d05dfe-0fd6-4e0a-b87c-6ee0af8e1bfc",
   "metadata": {},
   "outputs": [
    {
     "data": {
      "text/plain": [
       "header: \n",
       "  seq: 0\n",
       "  stamp: \n",
       "    secs: 1661543971\n",
       "    nsecs: 266395330\n",
       "  frame_id: \"base_footprint\"\n",
       "child_frame_id: \"guzheng/b5/head\"\n",
       "transform: \n",
       "  translation: \n",
       "    x: 0.5402080416679382\n",
       "    y: -0.46223196387290955\n",
       "    z: 0.6464329957962036\n",
       "  rotation: \n",
       "    x: 0.05895094573497772\n",
       "    y: -0.07335727661848068\n",
       "    z: 0.7476686239242554\n",
       "    w: 0.65736985206604"
      ]
     },
     "execution_count": 40,
     "metadata": {},
     "output_type": "execute_result"
    }
   ],
   "source": [
    "e.string_head_frame"
   ]
  },
  {
   "cell_type": "code",
   "execution_count": 41,
   "id": "3de56a5c-f7b6-4b22-82fc-d9e66693b660",
   "metadata": {},
   "outputs": [
    {
     "data": {
      "text/plain": [
       "header: \n",
       "  seq: 0\n",
       "  stamp: \n",
       "    secs: 1661543971\n",
       "    nsecs: 266395330\n",
       "  frame_id: \"guzheng/b5/head\"\n",
       "pose: \n",
       "  position: \n",
       "    x: 0.050910456952535876\n",
       "    y: 0.01786191133152676\n",
       "    z: 0.015314724975997174\n",
       "  orientation: \n",
       "    x: 0.4952910097043915\n",
       "    y: 0.5241717798473627\n",
       "    z: -0.5579090165209769\n",
       "    w: 0.4106924492175329"
      ]
     },
     "execution_count": 41,
     "metadata": {},
     "output_type": "execute_result"
    }
   ],
   "source": [
    "e.finger_start_pose"
   ]
  },
  {
   "cell_type": "code",
   "execution_count": 9,
   "id": "b000ed67-193b-4c74-af53-6c16b35455f1",
   "metadata": {},
   "outputs": [
    {
     "data": {
      "text/plain": [
       "(array([ 3.,  1.,  2.,  8.,  1., 11.,  4.,  2.,  2.,  4.]),\n",
       " array([1.87420964, 1.9539551 , 2.03370056, 2.11344602, 2.19319148,\n",
       "        2.27293694, 2.3526824 , 2.43242786, 2.51217332, 2.59191878,\n",
       "        2.67166424]),\n",
       " <BarContainer object of 10 artists>)"
      ]
     },
     "execution_count": 9,
     "metadata": {},
     "output_type": "execute_result"
    },
    {
     "data": {
      "image/png": "[encoded data removed]",
      "text/plain": [
       "<Figure size 432x288 with 1 Axes>"
      ]
     },
     "metadata": {
      "needs_background": "light"
     },
     "output_type": "display_data"
    }
   ],
   "source": [
    "plt.hist([e.length.to_sec() for e in episodes])"
   ]
  },
  {
   "cell_type": "code",
   "execution_count": 10,
   "id": "3d89340c-1c5e-4d6e-9d87-24fae39727ac",
   "metadata": {},
   "outputs": [
    {
     "data": {
      "text/plain": [
       "[('d6', 599235856),\n",
       " ('b5', 65697952),\n",
       " ('d6', 855979139),\n",
       " ('b5', 113559837),\n",
       " ('d6', 1015044858),\n",
       " ('d6', 906222554),\n",
       " ('', 964828414),\n",
       " ('b5', 21503047),\n",
       " ('d6', 112591611),\n",
       " ('b5', 155976116),\n",
       " ('d6', 1065450916),\n",
       " ('b5', 141757338),\n",
       " ('b5', 732154461),\n",
       " ('', 699133886),\n",
       " ('d6', 523145139),\n",
       " ('b5', 821061030),\n",
       " ('d6', 436915602),\n",
       " ('b5', 815563688),\n",
       " ('d6', 59071215),\n",
       " ('b5', 557591075),\n",
       " ('d6', 41012469),\n",
       " ('b5', 911745164),\n",
       " ('d6', 356956803),\n",
       " ('b5', 562887827),\n",
       " ('d6', 267573591),\n",
       " ('b5', 938742041),\n",
       " ('d6', 720519654),\n",
       " ('b5', 739770714),\n",
       " ('d6', 747123066),\n",
       " ('d6', 665007230),\n",
       " ('', 535265409),\n",
       " ('b5', 850502947),\n",
       " ('b5', 659428186),\n",
       " ('', 875555252),\n",
       " ('d6', 416079636),\n",
       " ('b5', 172029424),\n",
       " ('d6', 549514374),\n",
       " ('b5', 924095693)]"
      ]
     },
     "execution_count": 10,
     "metadata": {},
     "output_type": "execute_result"
    }
   ],
   "source": [
    "[(e.string, e.id) for e in episodes]"
   ]
  },
  {
   "cell_type": "code",
   "execution_count": 11,
   "id": "701a70fa-973b-4521-95d0-6074a64e996f",
   "metadata": {},
   "outputs": [
    {
     "data": {
      "text/plain": [
       "[<matplotlib.lines.Line2D at 0x7f312d44f190>]"
      ]
     },
     "execution_count": 11,
     "metadata": {},
     "output_type": "execute_result"
    },
    {
     "data": {
      "image/png": "[encoded data removed]",
      "text/plain": [
       "<Figure size 432x288 with 1 Axes>"
      ]
     },
     "metadata": {
      "needs_background": "light"
     },
     "output_type": "display_data"
    }
   ],
   "source": [
    "plt.plot([len(e.detected_audio_onsets) for e in episodes], 'x')"
   ]
  },
  {
   "cell_type": "code",
   "execution_count": 12,
   "id": "4f560deb-d097-41c8-bf70-7881a6c59079",
   "metadata": {},
   "outputs": [
    {
     "data": {
      "image/png": "[encoded data removed]",
      "text/plain": [
       "<Figure size 432x288 with 1 Axes>"
      ]
     },
     "metadata": {
      "needs_background": "light"
     },
     "output_type": "display_data"
    }
   ],
   "source": [
    "i = 0\n",
    "plt.figure()\n",
    "for e in episodes:\n",
    "    onsets = []\n",
    "    for o in e.detected_audio_onsets:\n",
    "        onsets.append((o.header.stamp - e.header.stamp).to_sec())\n",
    "    plt.plot([i] * len(onsets), onsets, 'x')\n",
    "    i+= 1"
   ]
  },
  {
   "cell_type": "code",
   "execution_count": 13,
   "id": "fbb4cd49-7c11-403c-9e83-50d831499131",
   "metadata": {},
   "outputs": [
    {
     "data": {
      "image/png": "[encoded data removed]",
      "text/plain": [
       "<Figure size 432x288 with 1 Axes>"
      ]
     },
     "metadata": {
      "needs_background": "light"
     },
     "output_type": "display_data"
    }
   ],
   "source": [
    "i = 0\n",
    "plt.figure()\n",
    "for e in episodes:\n",
    "    onsets = []\n",
    "    for o in e.detected_tactile_plucks:\n",
    "        onsets.append((o - e.header.stamp).to_sec())\n",
    "    plt.plot([i] * len(onsets), onsets, 'x')\n",
    "    i+= 1"
   ]
  },
  {
   "cell_type": "code",
   "execution_count": 14,
   "id": "39fd8886-75a4-429b-9c0a-f37422dfdfb1",
   "metadata": {},
   "outputs": [
    {
     "data": {
      "text/plain": [
       "(array([16.,  0.,  0.,  0.,  0.,  0.,  0.,  0.,  0., 22.]),\n",
       " array([1. , 1.1, 1.2, 1.3, 1.4, 1.5, 1.6, 1.7, 1.8, 1.9, 2. ]),\n",
       " <BarContainer object of 10 artists>)"
      ]
     },
     "execution_count": 14,
     "metadata": {},
     "output_type": "execute_result"
    },
    {
     "data": {
      "image/png": "[encoded data removed]",
      "text/plain": [
       "<Figure size 432x288 with 1 Axes>"
      ]
     },
     "metadata": {
      "needs_background": "light"
     },
     "output_type": "display_data"
    }
   ],
   "source": [
    "plt.hist([len(e.detected_tactile_plucks) for e in episodes])"
   ]
  },
  {
   "cell_type": "code",
   "execution_count": 15,
   "id": "9dc9e6a1-da51-4388-b2e3-977edbadac82",
   "metadata": {},
   "outputs": [],
   "source": [
    "two_tactile_plucks= [e for e in episodes if len(e.detected_tactile_plucks) == 2]"
   ]
  },
  {
   "cell_type": "code",
   "execution_count": 16,
   "id": "8acabce2-babc-47c0-9cb9-82de04e2038d",
   "metadata": {},
   "outputs": [
    {
     "data": {
      "text/plain": [
       "(array([4., 7., 5., 4., 1., 0., 0., 0., 0., 1.]),\n",
       " array([0.506, 0.517, 0.528, 0.539, 0.55 , 0.561, 0.572, 0.583, 0.594,\n",
       "        0.605, 0.616]),\n",
       " <BarContainer object of 10 artists>)"
      ]
     },
     "execution_count": 16,
     "metadata": {},
     "output_type": "execute_result"
    },
    {
     "data": {
      "image/png": "[encoded data removed]",
      "text/plain": [
       "<Figure size 432x288 with 1 Axes>"
      ]
     },
     "metadata": {
      "needs_background": "light"
     },
     "output_type": "display_data"
    }
   ],
   "source": [
    "plt.hist([(e.detected_tactile_plucks[1]-e.detected_tactile_plucks[0]).to_sec() for e in two_tactile_plucks])"
   ]
  },
  {
   "cell_type": "code",
   "execution_count": 17,
   "id": "d1eddd4e-9a3d-4e4d-9900-1c4bb92ff901",
   "metadata": {},
   "outputs": [],
   "source": [
    "e= two_tactile_plucks[5]"
   ]
  },
  {
   "cell_type": "code",
   "execution_count": 27,
   "id": "ad9d2c80-dd30-43c4-96c2-0269fd77fe94",
   "metadata": {},
   "outputs": [
    {
     "data": {
      "text/plain": [
       "<matplotlib.collections.LineCollection at 0x7f312d0624d0>"
      ]
     },
     "execution_count": 27,
     "metadata": {},
     "output_type": "execute_result"
    },
    {
     "data": {
      "image/png": "[encoded data removed]",
      "text/plain": [
       "<Figure size 432x288 with 1 Axes>"
      ]
     },
     "metadata": {
      "needs_background": "light"
     },
     "output_type": "display_data"
    }
   ],
   "source": [
    "### ARGH, the audio onsets came in too late and are wrongly associated,\n",
    "### ARGH2, the tactile pluck detector is garbage with the current thresholds\n",
    "\n",
    "plt.figure()\n",
    "plt.plot([t.header.stamp.to_sec() for t in e.tactile_data],[t.tactile.pdc for t in e.tactile_data])\n",
    "plt.vlines([o.header.stamp.to_sec() for o in e.detected_audio_onsets], 1500, 2400, 'red')\n",
    "plt.vlines([o.to_sec() for o in e.detected_tactile_plucks], 1500, 2600, 'green')\n",
    "\n",
    "nxt_e = episodes[next(idx for idx, e2 in enumerate(episodes) if e2.id == e.id)+1]\n",
    "plt.vlines([o.header.stamp.to_sec() for o in nxt_e.detected_audio_onsets], 1500, 2400, 'orange')\n"
   ]
  },
  {
   "cell_type": "code",
   "execution_count": 26,
   "id": "1865b8a1-309c-4070-9bb8-c78862e48599",
   "metadata": {},
   "outputs": [
    {
     "data": {
      "text/plain": [
       "-0.016829293999999995"
      ]
     },
     "execution_count": 26,
     "metadata": {},
     "output_type": "execute_result"
    }
   ],
   "source": [
    "(e.start_state.header.stamp-e.header.stamp).to_sec()"
   ]
  },
  {
   "cell_type": "code",
   "execution_count": 42,
   "id": "9fc9537a-f493-4c2f-82b9-27a776b21ae7",
   "metadata": {},
   "outputs": [
    {
     "data": {
      "text/plain": [
       "<matplotlib.collections.PathCollection at 0x7f3124e98b50>"
      ]
     },
     "execution_count": 42,
     "metadata": {},
     "output_type": "execute_result"
    },
    {
     "data": {
      "image/png": "[encoded data removed]",
      "text/plain": [
       "<Figure size 432x288 with 1 Axes>"
      ]
     },
     "metadata": {
      "needs_background": "light"
     },
     "output_type": "display_data"
    }
   ],
   "source": [
    "fps= [e.finger_start_pose.pose for e in episodes]\n",
    "plt.scatter([f.position.y for f in fps], [f.position.z for f in fps])"
   ]
  },
  {
   "cell_type": "code",
   "execution_count": 43,
   "id": "62854284-7e6d-4a50-bfbb-b4ad5893f567",
   "metadata": {},
   "outputs": [
    {
     "data": {
      "text/plain": [
       "<matplotlib.collections.PathCollection at 0x7f312500f1f0>"
      ]
     },
     "execution_count": 43,
     "metadata": {},
     "output_type": "execute_result"
    },
    {
     "data": {
      "image/png": "[encoded data removed]",
      "text/plain": [
       "<Figure size 432x288 with 1 Axes>"
      ]
     },
     "metadata": {
      "needs_background": "light"
     },
     "output_type": "display_data"
    }
   ],
   "source": [
    "plt.scatter([f.position.x for f in fps], [f.position.z for f in fps])"
   ]
  },
  {
   "cell_type": "code",
   "execution_count": null,
   "id": "db64aaca-31f9-4fd5-b360-d78947f4f403",
   "metadata": {},
   "outputs": [],
   "source": []
  }
 ],
 "metadata": {
  "kernelspec": {
   "display_name": "Python 3",
   "language": "python",
   "name": "python3"
  },
  "language_info": {
   "codemirror_mode": {
    "name": "ipython",
    "version": 3
   },
   "file_extension": ".py",
   "mimetype": "text/x-python",
   "name": "python",
   "nbconvert_exporter": "python",
   "pygments_lexer": "ipython3",
   "version": "3.10.1"
  }
 },
 "nbformat": 4,
 "nbformat_minor": 5
}
