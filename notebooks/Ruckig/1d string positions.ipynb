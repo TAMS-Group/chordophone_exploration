{
 "cells": [
  {
   "cell_type": "code",
   "execution_count": 23,
   "id": "1c747719-7e08-4afe-8714-5fd0be9714e9",
   "metadata": {},
   "outputs": [],
   "source": [
    "import matplotlib.pyplot as plt\n",
    "\n",
    "from copy import copy\n",
    "from math import copysign\n",
    "from pathlib import Path\n",
    "from sys import path\n",
    "from itertools import accumulate\n",
    "\n",
    "import numpy as np\n",
    "\n",
    "from ruckig import InputParameter, OutputParameter, Result, Ruckig"
   ]
  },
  {
   "cell_type": "code",
   "execution_count": 24,
   "id": "4c0a34b9-26c1-4567-a935-12ed4ab917b0",
   "metadata": {
    "tags": []
   },
   "outputs": [],
   "source": [
    "import re\n",
    "def melody_tokens(description):\n",
    "    duration = 4\n",
    "    melody_tokens= []\n",
    "    for n in description.split(\" \"):\n",
    "        m = re.search(r'([a-z]+)([0-9]*)', n)\n",
    "        d = duration if not m.group(2) else int(m.group(2))\n",
    "        melody_tokens.append( (m.group(1), d) )\n",
    "    return melody_tokens\n",
    "\n",
    "# setup melody\n",
    "all_my_ducklings= melody_tokens(r'c4 d e f g2 g2 a a a a g1')\n",
    "trial = melody_tokens(r'c4 d e')"
   ]
  },
  {
   "cell_type": "code",
   "execution_count": 25,
   "id": "9764e971-5c6a-4e27-855c-bc48c5725da6",
   "metadata": {
    "tags": []
   },
   "outputs": [],
   "source": [
    "# ground notes in equidistant positions\n",
    "notes= [[\"c\"], [\"cis\",\"des\"], [\"d\"], [\"dis\", \"es\"], [\"e\"], [\"f\"], [\"fis\",\"ges\"], [\"g\"], [\"gis\",\"as\"], [\"a\"], [\"b\"], [\"h\"]]\n",
    "note_distance= 0.3\n",
    "\n",
    "dist = 0.0\n",
    "note_positions = dict()\n",
    "for n in notes:\n",
    "    for name in n:\n",
    "        note_positions[name]= dist\n",
    "    dist+= note_distance\n",
    "\n",
    "#note_positions"
   ]
  },
  {
   "cell_type": "code",
   "execution_count": 59,
   "id": "074112d1-d562-4790-90d0-5fc075ab6d2f",
   "metadata": {},
   "outputs": [],
   "source": [
    "melody = all_my_ducklings\n",
    "#melody = trial"
   ]
  },
  {
   "cell_type": "code",
   "execution_count": 60,
   "id": "991b33a7-62c1-47f9-9ae8-a7fa8b3f7b06",
   "metadata": {},
   "outputs": [
    {
     "data": {
      "image/png": "[encoded data removed]",
      "text/plain": [
       "<Figure size 432x288 with 1 Axes>"
      ]
     },
     "metadata": {
      "needs_background": "light"
     },
     "output_type": "display_data"
    }
   ],
   "source": [
    "# Create instances: the Ruckig OTG as well as input and output parameters\n",
    "cycle_time = 0.01\n",
    "pluck_velocity = 0.5\n",
    "\n",
    "otg = Ruckig(1, cycle_time)  # DoFs, control cycle\n",
    "inp = InputParameter(1)\n",
    "out = OutputParameter(1)\n",
    "\n",
    "# Set input parameters\n",
    "inp.max_velocity = [10.0]\n",
    "inp.max_acceleration = [2.0]\n",
    "inp.max_jerk = [2.0]\n",
    "\n",
    "inp.current_position = [-0.1]\n",
    "inp.current_velocity = [0.0]\n",
    "inp.current_acceleration = [0.0]\n",
    "\n",
    "inp.target_position = [0.0]\n",
    "inp.target_velocity = [0.0]\n",
    "inp.target_acceleration = [0.0]\n",
    "\n",
    "# Generate the trajectory within the control loop\n",
    "out_list = []\n",
    "out_target_positions = []\n",
    "melody_decided_pluck_velocities = []\n",
    "duration= 0.0\n",
    "\n",
    "abs_duration= 0.0\n",
    "first_goal_time= None\n",
    "for note in melody:\n",
    "    inp.minimum_duration= duration\n",
    "    duration= note[1]\n",
    "\n",
    "    otg.reset_target()\n",
    "    inp.target_position= [note_positions[note[0]]]\n",
    "\n",
    "    # bad heuristic to decide from which direction to approach for pluck\n",
    "    inp.target_velocity= [copysign(pluck_velocity, inp.target_position[0]-inp.current_position[0])]\n",
    "    melody_decided_pluck_velocities.append(inp.target_velocity)\n",
    "\n",
    "    res = Result.Working\n",
    "    while res == Result.Working:\n",
    "        res = otg.update(inp, out)\n",
    "        out_list.append(copy(out))\n",
    "        out_target_positions.append(inp.target_position)\n",
    "        out.pass_to_input(inp)\n",
    "        abs_duration+= cycle_time\n",
    "    if first_goal_time == None:\n",
    "        first_goal_time = abs_duration\n",
    "\n",
    "fig = plt.figure()\n",
    "T= cycle_time*np.array(range(len(out_list)), dtype= float)\n",
    "plt.plot(T, [o.new_position[0] for o in out_list], '-', label='0')\n",
    "plt.plot(T, out_target_positions, '-r')\n",
    "\n",
    "actual_note_times = first_goal_time + np.add.accumulate(np.array([0.0]+list(map(lambda x: x[1], melody[0:-1]))))\n",
    "#plt.plot(actual_note_times, melody_positions, 'xg')\n",
    "delta= 0.7*np.array([-1.0, 1.0])\n",
    "for (t,p,v) in zip(actual_note_times, melody_positions, melody_decided_pluck_velocities):\n",
    "    plt.plot(t+delta, p+v*delta, '-g')"
   ]
  },
  {
   "cell_type": "code",
   "execution_count": null,
   "id": "c1024114-6390-409c-9d65-0b5aee7ba54c",
   "metadata": {},
   "outputs": [],
   "source": []
  }
 ],
 "metadata": {
  "kernelspec": {
   "display_name": "Python 3",
   "language": "python",
   "name": "python3"
  },
  "language_info": {
   "codemirror_mode": {
    "name": "ipython",
    "version": 3
   },
   "file_extension": ".py",
   "mimetype": "text/x-python",
   "name": "python",
   "nbconvert_exporter": "python",
   "pygments_lexer": "ipython3",
   "version": "3.10.1"
  }
 },
 "nbformat": 4,
 "nbformat_minor": 5
}
