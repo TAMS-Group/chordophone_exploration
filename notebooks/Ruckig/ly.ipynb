{
 "cells": [
  {
   "cell_type": "code",
   "execution_count": 54,
   "id": "a433a38c-edf1-42af-9e07-c059e39a8ae9",
   "metadata": {},
   "outputs": [],
   "source": []
  },
  {
   "cell_type": "code",
   "execution_count": 76,
   "id": "63894bb1-bb81-47aa-a634-61f939e17af3",
   "metadata": {},
   "outputs": [],
   "source": [
    "\n"
   ]
  },
  {
   "cell_type": "code",
   "execution_count": 82,
   "id": "8b16ed1b-f695-4169-8a97-01fd05a8547a",
   "metadata": {},
   "outputs": [],
   "source": [
    "import re\n",
    "def melody_tokens(description):\n",
    "    duration = 4\n",
    "    melody_tokens= []\n",
    "    for n in description.split(\" \"):\n",
    "        m = re.search(r'([a-z]+)([0-9]*)', n)\n",
    "        d = duration if not m.group(2) else int(m.group(2))\n",
    "        melody_tokens.append( (m.group(1), d) )\n",
    "    return melody_tokens\n",
    "\n",
    "all_my_ducklings= melody_tokens(r'c4 d e f g2 g2 a a a a g1')"
   ]
  }
 ],
 "metadata": {
  "kernelspec": {
   "display_name": "Python 3",
   "language": "python",
   "name": "python3"
  },
  "language_info": {
   "codemirror_mode": {
    "name": "ipython",
    "version": 3
   },
   "file_extension": ".py",
   "mimetype": "text/x-python",
   "name": "python",
   "nbconvert_exporter": "python",
   "pygments_lexer": "ipython3",
   "version": "3.10.1"
  }
 },
 "nbformat": 4,
 "nbformat_minor": 5
}
