{
 "cells": [
  {
   "cell_type": "code",
   "execution_count": 24,
   "id": "26a0ffdb-203c-43da-a78b-98078e0af323",
   "metadata": {},
   "outputs": [],
   "source": [
    "import matplotlib.pyplot as plt"
   ]
  },
  {
   "cell_type": "code",
   "execution_count": 25,
   "id": "876ffbb6-52c7-4b33-b68d-1ab3721cbfa8",
   "metadata": {},
   "outputs": [],
   "source": [
    "from copy import copy\n",
    "from pathlib import Path\n",
    "from sys import path\n",
    "\n",
    "from ruckig import InputParameter, OutputParameter, Result, Ruckig"
   ]
  },
  {
   "cell_type": "code",
   "execution_count": 30,
   "id": "a664af59-5194-4a9a-9a05-81e1f2d38d07",
   "metadata": {},
   "outputs": [
    {
     "name": "stdout",
     "output_type": "stream",
     "text": [
      "t\t0\t1\t2\n",
      "Calculation duration: 31.7 [µs]\n",
      "Trajectory duration: 5.0000 [s]\n"
     ]
    }
   ],
   "source": [
    "if __name__ == '__main__':\n",
    "    # Create instances: the Ruckig OTG as well as input and output parameters\n",
    "    otg = Ruckig(3, 0.01)  # DoFs, control cycle\n",
    "    inp = InputParameter(3)\n",
    "    out = OutputParameter(3)\n",
    "\n",
    "    # Set input parameters\n",
    "    inp.current_position = [0.0, 0.0, 0.5]\n",
    "    inp.current_velocity = [0.0, -2.2, -0.5]\n",
    "    inp.current_acceleration = [0.0, 2.5, -0.5]\n",
    "\n",
    "    inp.target_position = [5.0, -2.0, -3.5]\n",
    "    inp.target_velocity = [0.0, -0.5, -2.0]\n",
    "    inp.target_acceleration = [0.0, 0.0, 0.5]\n",
    "    inp.minimum_duration = 5.0\n",
    "    \n",
    "    inp.max_velocity = [3.0, 1.0, 3.0]\n",
    "    inp.max_acceleration = [3.0, 2.0, 1.0]\n",
    "    inp.max_jerk = [4.0, 3.0, 2.0]\n",
    "\n",
    "    print('\\t'.join(['t'] + [str(i) for i in range(otg.degrees_of_freedom)]))\n",
    "\n",
    "    # Generate the trajectory within the control loop\n",
    "    first_output, out_list = None, []\n",
    "    res = Result.Working\n",
    "    while res == Result.Working:\n",
    "        res = otg.update(inp, out)\n",
    "\n",
    "        #print('\\t'.join([f'{out.time:0.3f}'] + [f'{p:0.3f}' for p in out.new_position]))\n",
    "        out_list.append(copy(out))\n",
    "\n",
    "        out.pass_to_input(inp)\n",
    "\n",
    "        if not first_output:\n",
    "            first_output = copy(out)\n",
    "\n",
    "    print(f'Calculation duration: {first_output.calculation_duration:0.1f} [µs]')\n",
    "    print(f'Trajectory duration: {first_output.trajectory.duration:0.4f} [s]')\n",
    "\n",
    "    # Plot the trajectory\n",
    "    # path.insert(0, str(Path(__file__).parent.absolute().parent / 'test'))\n",
    "    # from plotter import Plotter\n",
    "\n",
    "    # Plotter.plot_trajectory(Path(__file__).parent.absolute() / '1_trajectory.pdf', otg, inp, out_list, plot_jerk=False)"
   ]
  },
  {
   "cell_type": "code",
   "execution_count": 31,
   "id": "588a96d1-646b-49b2-a252-f094c69307f1",
   "metadata": {},
   "outputs": [
    {
     "data": {
      "text/plain": [
       "<matplotlib.legend.Legend at 0x7faf915585b0>"
      ]
     },
     "execution_count": 31,
     "metadata": {},
     "output_type": "execute_result"
    },
    {
     "data": {
      "image/png": "[encoded data removed]",
      "text/plain": [
       "<Figure size 432x288 with 1 Axes>"
      ]
     },
     "metadata": {
      "needs_background": "light"
     },
     "output_type": "display_data"
    }
   ],
   "source": [
    "fig = plt.figure()\n",
    "plt.plot([o.time for o in out_list], [o.new_position[0] for o in out_list], 'x-', label='0')\n",
    "plt.plot([o.time for o in out_list], [o.new_position[1] for o in out_list], 'x-', label='1')\n",
    "plt.plot([o.time for o in out_list], [o.new_position[2] for o in out_list], 'x-', label='2')\n",
    "plt.legend()"
   ]
  },
  {
   "cell_type": "code",
   "execution_count": null,
   "id": "1229559b-a4e2-4af5-a19d-db594b05aea4",
   "metadata": {},
   "outputs": [],
   "source": []
  }
 ],
 "metadata": {
  "kernelspec": {
   "display_name": "Python 3",
   "language": "python",
   "name": "python3"
  },
  "language_info": {
   "codemirror_mode": {
    "name": "ipython",
    "version": 3
   },
   "file_extension": ".py",
   "mimetype": "text/x-python",
   "name": "python",
   "nbconvert_exporter": "python",
   "pygments_lexer": "ipython3",
   "version": "3.10.1"
  }
 },
 "nbformat": 4,
 "nbformat_minor": 5
}
