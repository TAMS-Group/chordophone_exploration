{
 "cells": [
  {
   "cell_type": "code",
   "execution_count": null,
   "metadata": {},
   "outputs": [],
   "source": [
    "import matplotlib.pyplot as plt\n",
    "import pandas as pd\n",
    "import seaborn as sns\n",
    "import os\n",
    "from tqdm.auto import tqdm\n",
    "import numpy as np\n",
    "from copy import deepcopy\n",
    "\n",
    "import rospy\n",
    "import actionlib\n",
    "\n",
    "from tams_pr2_guzheng.paths import RuckigPath\n",
    "from tams_pr2_guzheng.utils import *\n",
    "from tams_pr2_guzheng.msg import RunEpisodeAction\n",
    "from math import tau"
   ]
  },
  {
   "cell_type": "code",
   "execution_count": null,
   "metadata": {},
   "outputs": [],
   "source": [
    "rospy.init_node('jupyter', anonymous=True)"
   ]
  },
  {
   "cell_type": "code",
   "execution_count": null,
   "metadata": {},
   "outputs": [],
   "source": [
    "run_episode = actionlib.SimpleActionClient('run_episode', RunEpisodeAction)\n",
    "run_episode.wait_for_server()"
   ]
  },
  {
   "cell_type": "code",
   "execution_count": null,
   "metadata": {},
   "outputs": [],
   "source": [
    "if os.path.exists('/tmp/plucks.json'):\n",
    "    plucks = pd.read_json('/tmp/plucks.json')\n",
    "else:\n",
    "    plucks = pd.DataFrame(columns=[])\n",
    "plucks"
   ]
  },
  {
   "cell_type": "code",
   "execution_count": null,
   "metadata": {},
   "outputs": [],
   "source": [
    "p = RuckigPath.random(note= 'e4', string_position=.17, direction=1.0)\n",
    "p.dataframe.plot(x='y', y='z')"
   ]
  },
  {
   "cell_type": "code",
   "execution_count": null,
   "metadata": {},
   "outputs": [],
   "source": [
    "result = run_params(run_episode, p, finger= 'ff')\n",
    "row = row_from_result(result)\n",
    "row['params'] = result.parameters\n",
    "row_df = pd.DataFrame(row, columns= row.keys(), index= [0])\n",
    "plucks = pd.concat((plucks, row_df), ignore_index=True)"
   ]
  },
  {
   "cell_type": "code",
   "execution_count": null,
   "metadata": {},
   "outputs": [],
   "source": [
    "plucks"
   ]
  },
  {
   "cell_type": "code",
   "execution_count": null,
   "metadata": {},
   "outputs": [],
   "source": [
    "original_p = deepcopy(p)"
   ]
  },
  {
   "cell_type": "code",
   "execution_count": null,
   "metadata": {},
   "outputs": [],
   "source": [
    "p = deepcopy(original_p)\n",
    "p.dataframe.plot(x='y', y='z')"
   ]
  },
  {
   "cell_type": "code",
   "execution_count": null,
   "metadata": {},
   "outputs": [],
   "source": [
    "def add_noise(path_original):\n",
    "    path = deepcopy(path_original)\n",
    "    path.keypoint_pos[0] = np.clip(path.keypoint_pos[0] + np.random.normal(0.0, 1e-3), -.015, 0.015)\n",
    "    #path.keypoint_pos = np.clip(np.array(path.keypoint_pos) + np.random.normal(0.0, 5e-4, 2), -1.0, 1.0).tolist()\n",
    "    #vel = np.array(path.keypoint_vel) + np.random.normal(0.0, 1e-3, 2)\n",
    "    #vel[0] = np.clip(vel[0], *sorted(path.direction * np.array([0, 0.1])))\n",
    "    #vel[1] = np.clip(vel[1], 0.0, 0.008)\n",
    "    #path.keypoint_vel = vel.tolist()\n",
    "    if not path.feasible:\n",
    "        print(\"Path not feasible, not modifying\")\n",
    "        return path_original\n",
    "    return path"
   ]
  },
  {
   "cell_type": "code",
   "execution_count": null,
   "metadata": {},
   "outputs": [],
   "source": [
    "plucks['keypoint_pos_y'].hist()\n",
    "plt.figure()\n",
    "plucks['loudness'].hist()"
   ]
  },
  {
   "cell_type": "code",
   "execution_count": null,
   "metadata": {},
   "outputs": [],
   "source": [
    "plt.plot(plucks['loudness'])"
   ]
  },
  {
   "cell_type": "code",
   "execution_count": null,
   "metadata": {},
   "outputs": [],
   "source": [
    "x=plucks.iloc[np.abs(plucks['loudness']-target).argmin()].keypoint_pos_y\n",
    "print(f\"pluck closest to target frequency: {x}\")"
   ]
  },
  {
   "cell_type": "code",
   "execution_count": null,
   "metadata": {},
   "outputs": [],
   "source": [
    "# clear NaNs\n",
    "plucks= plucks[~plucks['loudness'].isnull()]"
   ]
  },
  {
   "cell_type": "code",
   "execution_count": null,
   "metadata": {},
   "outputs": [],
   "source": [
    "p.keypoint_vel"
   ]
  },
  {
   "cell_type": "code",
   "execution_count": null,
   "metadata": {},
   "outputs": [],
   "source": [
    "fig = plt.figure()\n",
    "# rotate p.keypoint_vel by 10 degrees\n",
    "for n in np.arange(0.0, tau/4, 5e-2):\n",
    "    theta = n\n",
    "    rot = np.array([[np.cos(theta), -np.sin(theta)], [np.sin(theta), np.cos(theta)]])\n",
    "    p.keypoint_vel = (rot @ np.array(original_p.keypoint_vel)).tolist()\n",
    "    p.dataframe.plot(x='y', y='z', ax = fig.gca(), legend= False)"
   ]
  },
  {
   "cell_type": "code",
   "execution_count": null,
   "metadata": {},
   "outputs": [],
   "source": [
    "np.arange(0.0, tau/4, 5e-2)"
   ]
  },
  {
   "cell_type": "code",
   "execution_count": null,
   "metadata": {},
   "outputs": [],
   "source": [
    "for n in tqdm(np.arange(0.0, 0.1, 2e-3)):\n",
    "    #p = RuckigPath.from_action_parameters(plucks.iloc[np.abs(plucks['loudness']-target).argmin()]['params'])\n",
    "    #p = add_noise(p)\n",
    "    p.keypoint_vel[0] = n\n",
    "    result = run_params(run_episode, p, finger= 'ff')\n",
    "    row = row_from_result(result)\n",
    "    if row['loudness'] is not None:\n",
    "        row['params'] = result.parameters\n",
    "        row_df = pd.DataFrame(row, columns= row.keys(), index= [0])\n",
    "        plucks = pd.concat((plucks, row_df), ignore_index=True)\n",
    "print(f\"\\nclosest loudness: {plucks.iloc[np.abs(plucks['loudness']-target).argmin()]['loudness']}\")"
   ]
  },
  {
   "cell_type": "code",
   "execution_count": null,
   "metadata": {},
   "outputs": [],
   "source": [
    "p = deepcopy(original_p)\n",
    "p.keypoint_pos = [0.0, -0.01]\n",
    "p.keypoint_vel = [0.00, 0.08]\n",
    "p.dataframe.plot(x='y', y='z', legend=False)"
   ]
  },
  {
   "cell_type": "code",
   "execution_count": null,
   "metadata": {},
   "outputs": [],
   "source": [
    "sns.swarmplot(x= plucks['loudness'])"
   ]
  },
  {
   "cell_type": "code",
   "execution_count": null,
   "metadata": {},
   "outputs": [],
   "source": [
    "plucks.to_json('/tmp/plucks.json')"
   ]
  },
  {
   "cell_type": "code",
   "execution_count": null,
   "metadata": {},
   "outputs": [],
   "source": [
    "target = 25\n",
    "p = RuckigPath.from_action_parameters(plucks.iloc[np.abs(plucks['loudness']-target).argmin()]['params'])"
   ]
  }
 ],
 "metadata": {
  "kernelspec": {
   "display_name": "venv",
   "language": "python",
   "name": "python3"
  },
  "language_info": {
   "codemirror_mode": {
    "name": "ipython",
    "version": 3
   },
   "file_extension": ".py",
   "mimetype": "text/x-python",
   "name": "python",
   "nbconvert_exporter": "python",
   "pygments_lexer": "ipython3",
   "version": "3.8.10"
  },
  "orig_nbformat": 4
 },
 "nbformat": 4,
 "nbformat_minor": 2
}
