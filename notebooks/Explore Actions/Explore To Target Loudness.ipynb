{
 "cells": [
  {
   "cell_type": "code",
   "execution_count": null,
   "metadata": {},
   "outputs": [],
   "source": [
    "import matplotlib.pyplot as plt\n",
    "import pandas as pd\n",
    "import seaborn as sns\n",
    "import os\n",
    "from tqdm import tqdm\n",
    "import numpy as np\n",
    "from copy import deepcopy\n",
    "\n",
    "import rospy\n",
    "import actionlib\n",
    "\n",
    "from tams_pr2_guzheng.paths import RuckigPath\n",
    "from tams_pr2_guzheng.utils import *\n",
    "from tams_pr2_guzheng.msg import RunEpisodeAction\n"
   ]
  },
  {
   "cell_type": "code",
   "execution_count": null,
   "metadata": {},
   "outputs": [],
   "source": [
    "rospy.init_node('jupyter', anonymous=True)"
   ]
  },
  {
   "cell_type": "code",
   "execution_count": null,
   "metadata": {},
   "outputs": [],
   "source": [
    "run_episode = actionlib.SimpleActionClient('run_episode', RunEpisodeAction)\n",
    "run_episode.wait_for_server()"
   ]
  },
  {
   "cell_type": "code",
   "execution_count": null,
   "metadata": {},
   "outputs": [],
   "source": [
    "if os.path.exists('/tmp/plucks.json'):\n",
    "    plucks = pd.read_json('/tmp/plucks.json')\n",
    "else:\n",
    "    plucks = pd.DataFrame(columns=[])"
   ]
  },
  {
   "cell_type": "code",
   "execution_count": null,
   "metadata": {},
   "outputs": [],
   "source": [
    "p = RuckigPath.random(note= 'b3', string_position=.17)\n",
    "p.dataframe.plot(x='y', y='z')"
   ]
  },
  {
   "cell_type": "code",
   "execution_count": null,
   "metadata": {},
   "outputs": [],
   "source": [
    "result = run_params(run_episode, p, finger= 'ff')\n",
    "row = row_from_result(result)\n",
    "row['params'] = result.parameters\n",
    "row_df = pd.DataFrame(row, columns= row.keys(), index= [0])\n",
    "plucks = pd.concat((plucks, row_df), ignore_index=True)"
   ]
  },
  {
   "cell_type": "code",
   "execution_count": null,
   "metadata": {},
   "outputs": [],
   "source": [
    "p = deepcopy(original_p)\n",
    "p.keypoint_pos = [0.0, -0.01]\n",
    "p.keypoint_vel = [0.00, 0.08]\n",
    "p.dataframe.plot(x='y', y='z', legend=False)"
   ]
  },
  {
   "cell_type": "code",
   "execution_count": null,
   "metadata": {},
   "outputs": [],
   "source": [
    "original_p = deepcopy(p)"
   ]
  },
  {
   "cell_type": "code",
   "execution_count": null,
   "metadata": {},
   "outputs": [],
   "source": [
    "p = deepcopy(original_p)"
   ]
  },
  {
   "cell_type": "code",
   "execution_count": null,
   "metadata": {},
   "outputs": [],
   "source": [
    "def add_noise(path_original):\n",
    "    path = deepcopy(path_original)\n",
    "    path.keypoint_pos = np.clip(np.array(path.keypoint_pos) + np.random.normal(0.0, 5e-4, 2), -1.0, 1.0).tolist()\n",
    "    vel = np.array(path.keypoint_vel) + np.random.normal(0.0, 1e-3, 2)\n",
    "    vel[0] = np.clip(vel[0], *sorted(path.direction * np.array([0, 0.1])))\n",
    "    vel[1] = np.clip(vel[1], 0.0, 0.008)\n",
    "    path.keypoint_vel = vel.tolist()\n",
    "    return path if path.feasible else path_original"
   ]
  },
  {
   "cell_type": "code",
   "execution_count": null,
   "metadata": {},
   "outputs": [],
   "source": [
    "target= 35.0\n",
    "for n in tqdm(range(5)):\n",
    "    p = RuckigPath.from_action_parameters(plucks.iloc[np.abs(plucks['loudness']-target).argmin()]['params'])\n",
    "    add_noise(p)\n",
    "    result = run_params(run_episode, p, finger= 'ff')\n",
    "    row = row_from_result(result)\n",
    "    print(f\"loudness: {row['loudness']}\")\n",
    "    row['params'] = result.parameters\n",
    "    row_df = pd.DataFrame(row, columns= row.keys(), index= [0])\n",
    "    plucks = pd.concat((plucks, row_df), ignore_index=True)"
   ]
  },
  {
   "cell_type": "code",
   "execution_count": null,
   "metadata": {},
   "outputs": [],
   "source": [
    "sns.swarmplot(x= plucks['loudness'])"
   ]
  },
  {
   "cell_type": "code",
   "execution_count": null,
   "metadata": {},
   "outputs": [],
   "source": [
    "np.abs(plucks['loudness']- 20).argmin()"
   ]
  },
  {
   "cell_type": "code",
   "execution_count": null,
   "metadata": {},
   "outputs": [],
   "source": [
    "plucks.to_json('/tmp/plucks.json')"
   ]
  },
  {
   "cell_type": "code",
   "execution_count": null,
   "metadata": {},
   "outputs": [],
   "source": [
    "target = 25\n",
    "p = RuckigPath.from_action_parameters(plucks.iloc[np.abs(plucks['loudness']-target).argmin()]['params'])"
   ]
  }
 ],
 "metadata": {
  "kernelspec": {
   "display_name": "venv",
   "language": "python",
   "name": "python3"
  },
  "language_info": {
   "codemirror_mode": {
    "name": "ipython",
    "version": 3
   },
   "file_extension": ".py",
   "mimetype": "text/x-python",
   "name": "python",
   "nbconvert_exporter": "python",
   "pygments_lexer": "ipython3",
   "version": "3.11.2"
  },
  "orig_nbformat": 4
 },
 "nbformat": 4,
 "nbformat_minor": 2
}
