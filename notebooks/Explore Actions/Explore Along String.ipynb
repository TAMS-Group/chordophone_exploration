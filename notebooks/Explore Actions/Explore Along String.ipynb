{
 "cells": [
  {
   "cell_type": "code",
   "execution_count": null,
   "metadata": {},
   "outputs": [],
   "source": [
    "import matplotlib.pyplot as plt\n",
    "import pandas as pd\n",
    "import seaborn as sns\n",
    "import os\n",
    "from tqdm import tqdm\n",
    "import numpy as np\n",
    "from copy import deepcopy\n",
    "\n",
    "import rospy\n",
    "import actionlib\n",
    "\n",
    "from tams_pr2_guzheng.paths import RuckigPath\n",
    "from tams_pr2_guzheng.utils import *\n",
    "from tams_pr2_guzheng.msg import RunEpisodeAction\n"
   ]
  },
  {
   "cell_type": "code",
   "execution_count": null,
   "metadata": {},
   "outputs": [],
   "source": [
    "rospy.init_node('jupyter', anonymous=True)"
   ]
  },
  {
   "cell_type": "code",
   "execution_count": null,
   "metadata": {},
   "outputs": [],
   "source": [
    "run_episode = actionlib.SimpleActionClient('run_episode', RunEpisodeAction)\n",
    "run_episode.wait_for_server()"
   ]
  },
  {
   "cell_type": "code",
   "execution_count": null,
   "metadata": {},
   "outputs": [],
   "source": [
    "if os.path.exists('/tmp/plucks.json'):\n",
    "    plucks = pd.read_json('/tmp/plucks.json')\n",
    "else:\n",
    "    plucks = pd.DataFrame(columns=[])"
   ]
  },
  {
   "cell_type": "code",
   "execution_count": null,
   "metadata": {},
   "outputs": [],
   "source": [
    "p = RuckigPath.random(note= 'b3', string_position=.17)\n",
    "p.dataframe.plot(x='y', y='z')"
   ]
  },
  {
   "cell_type": "code",
   "execution_count": null,
   "metadata": {},
   "outputs": [],
   "source": [
    "result = run_params(run_episode, p, finger= 'ff')\n",
    "row = row_from_result(result)\n",
    "row['params'] = result.parameters\n",
    "row_df = pd.DataFrame(row, columns= row.keys(), index= [0])\n",
    "plucks = pd.concat((plucks, row_df), ignore_index=True)"
   ]
  },
  {
   "cell_type": "code",
   "execution_count": null,
   "metadata": {},
   "outputs": [],
   "source": [
    "original_p = deepcopy(p)"
   ]
  },
  {
   "cell_type": "code",
   "execution_count": null,
   "metadata": {},
   "outputs": [],
   "source": [
    "p = deepcopy(original_p)"
   ]
  },
  {
   "cell_type": "code",
   "execution_count": null,
   "metadata": {},
   "outputs": [],
   "source": [
    "plucks_along_string = pd.DataFrame(columns=[])"
   ]
  },
  {
   "cell_type": "code",
   "execution_count": null,
   "metadata": {},
   "outputs": [],
   "source": [
    "for n in tqdm(np.repeat(np.arange(0.02, string_length(p.note), 0.02), 3)):\n",
    "    print(n)\n",
    "    p.string_position = n\n",
    "    result = run_params(run_episode, p, finger= 'ff')\n",
    "    row = row_from_result(result)\n",
    "    print(f\"loudness: {row['loudness']}\")\n",
    "    row['params'] = result.parameters\n",
    "    row_df = pd.DataFrame(row, columns= row.keys(), index= [0])\n",
    "    plucks_along_string = pd.concat((plucks_along_string, row_df), ignore_index=True)"
   ]
  },
  {
   "cell_type": "code",
   "execution_count": null,
   "metadata": {},
   "outputs": [],
   "source": [
    "f=plt.figure()\n",
    "plucks_along_string.plot(kind='scatter', x='string_position', y='loudness', ax=f.gca())\n",
    "f.savefig('/tmp/plucks_along_string.svg')"
   ]
  },
  {
   "cell_type": "code",
   "execution_count": null,
   "metadata": {},
   "outputs": [],
   "source": [
    "plucks_along_string.to_json('/tmp/plucks_along_string.json')"
   ]
  },
  {
   "cell_type": "code",
   "execution_count": null,
   "metadata": {},
   "outputs": [],
   "source": []
  }
 ],
 "metadata": {
  "kernelspec": {
   "display_name": "venv",
   "language": "python",
   "name": "python3"
  },
  "language_info": {
   "codemirror_mode": {
    "name": "ipython",
    "version": 3
   },
   "file_extension": ".py",
   "mimetype": "text/x-python",
   "name": "python",
   "nbconvert_exporter": "python",
   "pygments_lexer": "ipython3",
   "version": "3.11.2"
  },
  "orig_nbformat": 4
 },
 "nbformat": 4,
 "nbformat_minor": 2
}
