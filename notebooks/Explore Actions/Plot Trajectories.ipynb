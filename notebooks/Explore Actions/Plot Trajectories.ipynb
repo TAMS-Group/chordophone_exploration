{
 "cells": [
  {
   "cell_type": "code",
   "execution_count": 1,
   "metadata": {},
   "outputs": [],
   "source": [
    "import matplotlib.pyplot as plt\n",
    "import pandas as pd\n",
    "import seaborn as sns\n",
    "import os\n",
    "from tqdm import tqdm\n",
    "import numpy as np\n",
    "from copy import deepcopy\n",
    "\n",
    "import rospy\n",
    "import actionlib\n",
    "\n",
    "from tams_pr2_guzheng.paths import RuckigPath\n",
    "from tams_pr2_guzheng.utils import *\n",
    "from tams_pr2_guzheng.msg import RunEpisodeAction\n"
   ]
  },
  {
   "cell_type": "code",
   "execution_count": 2,
   "metadata": {},
   "outputs": [],
   "source": [
    "rospy.init_node('jupyter', anonymous=True)"
   ]
  },
  {
   "cell_type": "code",
   "execution_count": 3,
   "metadata": {},
   "outputs": [
    {
     "data": {
      "text/plain": [
       "True"
      ]
     },
     "execution_count": 3,
     "metadata": {},
     "output_type": "execute_result"
    }
   ],
   "source": [
    "run_episode = actionlib.SimpleActionClient('run_episode', RunEpisodeAction)\n",
    "run_episode.wait_for_server()"
   ]
  },
  {
   "cell_type": "code",
   "execution_count": 4,
   "metadata": {},
   "outputs": [],
   "source": [
    "if os.path.exists('/tmp/plucks.json'):\n",
    "    plucks = pd.read_json('/tmp/plucks.json')\n",
    "else:\n",
    "    plucks = pd.DataFrame(columns=[])"
   ]
  },
  {
   "cell_type": "code",
   "execution_count": 32,
   "metadata": {},
   "outputs": [
    {
     "data": {
      "text/plain": [
       "<AxesSubplot:xlabel='y'>"
      ]
     },
     "execution_count": 32,
     "metadata": {},
     "output_type": "execute_result"
    },
    {
     "data": {
      "image/png": "[encoded data removed]",
      "text/plain": [
       "<Figure size 432x288 with 1 Axes>"
      ]
     },
     "metadata": {
      "needs_background": "light"
     },
     "output_type": "display_data"
    }
   ],
   "source": [
    "p = RuckigPath.random(note= 'b3', string_position=.17)\n",
    "p.dataframe.plot(x='y', y='z')"
   ]
  },
  {
   "cell_type": "code",
   "execution_count": 33,
   "metadata": {},
   "outputs": [
    {
     "ename": "NameError",
     "evalue": "name 'plucks' is not defined",
     "output_type": "error",
     "traceback": [
      "\u001b[0;31m---------------------------------------------------------------------------\u001b[0m",
      "\u001b[0;31mNameError\u001b[0m                                 Traceback (most recent call last)",
      "Cell \u001b[0;32mIn[33], line 5\u001b[0m\n\u001b[1;32m      3\u001b[0m row[\u001b[39m'\u001b[39m\u001b[39mparams\u001b[39m\u001b[39m'\u001b[39m] \u001b[39m=\u001b[39m result\u001b[39m.\u001b[39mparameters\n\u001b[1;32m      4\u001b[0m row_df \u001b[39m=\u001b[39m pd\u001b[39m.\u001b[39mDataFrame(row, columns\u001b[39m=\u001b[39m row\u001b[39m.\u001b[39mkeys(), index\u001b[39m=\u001b[39m [\u001b[39m0\u001b[39m])\n\u001b[0;32m----> 5\u001b[0m plucks \u001b[39m=\u001b[39m pd\u001b[39m.\u001b[39mconcat((plucks, row_df), ignore_index\u001b[39m=\u001b[39m\u001b[39mTrue\u001b[39;00m)\n",
      "\u001b[0;31mNameError\u001b[0m: name 'plucks' is not defined"
     ]
    }
   ],
   "source": [
    "result = run_params(run_episode, p, finger= 'ff')\n",
    "row = row_from_result(result)\n",
    "row['params'] = result.parameters\n",
    "row_df = pd.DataFrame(row, columns= row.keys(), index= [0])\n",
    "plucks = pd.concat((plucks, row_df), ignore_index=True)"
   ]
  },
  {
   "cell_type": "code",
   "execution_count": 59,
   "metadata": {},
   "outputs": [
    {
     "data": {
      "text/plain": [
       "<AxesSubplot:xlabel='y'>"
      ]
     },
     "execution_count": 59,
     "metadata": {},
     "output_type": "execute_result"
    },
    {
     "data": {
      "image/png": "[encoded data removed]",
      "text/plain": [
       "<Figure size 432x288 with 1 Axes>"
      ]
     },
     "metadata": {
      "needs_background": "light"
     },
     "output_type": "display_data"
    }
   ],
   "source": [
    "p = deepcopy(original_p)\n",
    "p.keypoint_pos = [0.0, -0.01]\n",
    "p.keypoint_vel = [0.00, 0.08]\n",
    "p.dataframe.plot(x='y', y='z', legend=False)"
   ]
  },
  {
   "cell_type": "code",
   "execution_count": 33,
   "metadata": {},
   "outputs": [
    {
     "data": {
      "text/html": [
       "<div>\n",
       "<style scoped>\n",
       "    .dataframe tbody tr th:only-of-type {\n",
       "        vertical-align: middle;\n",
       "    }\n",
       "\n",
       "    .dataframe tbody tr th {\n",
       "        vertical-align: top;\n",
       "    }\n",
       "\n",
       "    .dataframe thead th {\n",
       "        text-align: right;\n",
       "    }\n",
       "</style>\n",
       "<table border=\"1\" class=\"dataframe\">\n",
       "  <thead>\n",
       "    <tr style=\"text-align: right;\">\n",
       "      <th></th>\n",
       "      <th>time</th>\n",
       "      <th>y</th>\n",
       "      <th>z</th>\n",
       "    </tr>\n",
       "  </thead>\n",
       "  <tbody>\n",
       "    <tr>\n",
       "      <th>0</th>\n",
       "      <td>0.000000</td>\n",
       "      <td>0.000000</td>\n",
       "      <td>0.000000</td>\n",
       "    </tr>\n",
       "    <tr>\n",
       "      <th>1</th>\n",
       "      <td>0.047876</td>\n",
       "      <td>0.000146</td>\n",
       "      <td>0.000146</td>\n",
       "    </tr>\n",
       "    <tr>\n",
       "      <th>2</th>\n",
       "      <td>0.095753</td>\n",
       "      <td>0.001088</td>\n",
       "      <td>0.001171</td>\n",
       "    </tr>\n",
       "    <tr>\n",
       "      <th>3</th>\n",
       "      <td>0.143629</td>\n",
       "      <td>0.002624</td>\n",
       "      <td>0.003827</td>\n",
       "    </tr>\n",
       "    <tr>\n",
       "      <th>4</th>\n",
       "      <td>0.191505</td>\n",
       "      <td>0.004208</td>\n",
       "      <td>0.007796</td>\n",
       "    </tr>\n",
       "    <tr>\n",
       "      <th>5</th>\n",
       "      <td>0.239382</td>\n",
       "      <td>0.005792</td>\n",
       "      <td>0.012204</td>\n",
       "    </tr>\n",
       "    <tr>\n",
       "      <th>6</th>\n",
       "      <td>0.287258</td>\n",
       "      <td>0.007376</td>\n",
       "      <td>0.016173</td>\n",
       "    </tr>\n",
       "    <tr>\n",
       "      <th>7</th>\n",
       "      <td>0.335134</td>\n",
       "      <td>0.008912</td>\n",
       "      <td>0.018829</td>\n",
       "    </tr>\n",
       "    <tr>\n",
       "      <th>8</th>\n",
       "      <td>0.383011</td>\n",
       "      <td>0.009854</td>\n",
       "      <td>0.019854</td>\n",
       "    </tr>\n",
       "    <tr>\n",
       "      <th>9</th>\n",
       "      <td>0.430887</td>\n",
       "      <td>0.010000</td>\n",
       "      <td>0.020000</td>\n",
       "    </tr>\n",
       "  </tbody>\n",
       "</table>\n",
       "</div>"
      ],
      "text/plain": [
       "       time         y         z\n",
       "0  0.000000  0.000000  0.000000\n",
       "1  0.047876  0.000146  0.000146\n",
       "2  0.095753  0.001088  0.001171\n",
       "3  0.143629  0.002624  0.003827\n",
       "4  0.191505  0.004208  0.007796\n",
       "5  0.239382  0.005792  0.012204\n",
       "6  0.287258  0.007376  0.016173\n",
       "7  0.335134  0.008912  0.018829\n",
       "8  0.383011  0.009854  0.019854\n",
       "9  0.430887  0.010000  0.020000"
      ]
     },
     "execution_count": 33,
     "metadata": {},
     "output_type": "execute_result"
    }
   ],
   "source": [
    "p.dataframe"
   ]
  },
  {
   "cell_type": "code",
   "execution_count": 97,
   "metadata": {},
   "outputs": [],
   "source": [
    "original_p = deepcopy(p)"
   ]
  },
  {
   "cell_type": "code",
   "execution_count": 94,
   "metadata": {},
   "outputs": [],
   "source": [
    "p = deepcopy(original_p)"
   ]
  },
  {
   "cell_type": "code",
   "execution_count": 11,
   "metadata": {},
   "outputs": [
    {
     "data": {
      "text/plain": [
       "[0.1,\n",
       " 0.1,\n",
       " 1.0,\n",
       " 1.5,\n",
       " 8.0,\n",
       " 8.0,\n",
       " 0.015,\n",
       " 0.015,\n",
       " -0.01,\n",
       " 0.02,\n",
       " 0.000692525765279995,\n",
       " -0.0034348069794676115,\n",
       " -0.058144151722084626,\n",
       " 0.026020003232748536,\n",
       " 0.17]"
      ]
     },
     "execution_count": 11,
     "metadata": {},
     "output_type": "execute_result"
    }
   ],
   "source": [
    "p.params"
   ]
  },
  {
   "cell_type": "code",
   "execution_count": 76,
   "metadata": {},
   "outputs": [],
   "source": [
    "def add_noise(path):\n",
    "    path.keypoint_pos = np.clip(np.array(path.keypoint_pos) + np.random.normal(0.0, 5e-4, 2), -1.0, 1.0).tolist()\n",
    "    vel = np.array(path.keypoint_vel) + np.random.normal(0.0, 1e-3, 2)\n",
    "    vel[0] = np.clip(vel[0], *sorted(path.direction * np.array([0, 0.1])))\n",
    "    vel[1] = np.clip(vel[1], 0.0, 0.008)\n",
    "    path.keypoint_vel = vel.tolist()"
   ]
  },
  {
   "cell_type": "code",
   "execution_count": 77,
   "metadata": {},
   "outputs": [],
   "source": [
    "add_noise(p)"
   ]
  },
  {
   "cell_type": "code",
   "execution_count": 78,
   "metadata": {},
   "outputs": [
    {
     "data": {
      "text/plain": [
       "[0.002921193711925569, 7.958925378206532e-05]"
      ]
     },
     "execution_count": 78,
     "metadata": {},
     "output_type": "execute_result"
    }
   ],
   "source": [
    "p.keypoint_pos"
   ]
  },
  {
   "cell_type": "code",
   "execution_count": 84,
   "metadata": {},
   "outputs": [
    {
     "name": "stderr",
     "output_type": "stream",
     "text": [
      "100%|██████████| 1/1 [00:07<00:00,  7.70s/it]"
     ]
    },
    {
     "name": "stdout",
     "output_type": "stream",
     "text": [
      "loudness: 32.82822799682617\n"
     ]
    },
    {
     "name": "stderr",
     "output_type": "stream",
     "text": [
      "\n"
     ]
    }
   ],
   "source": [
    "target= 35.0\n",
    "for n in tqdm(range(1)):\n",
    "    p = RuckigPath.from_action_parameters(plucks.iloc[np.abs(plucks['loudness']-target).argmin()]['params'])\n",
    "    add_noise(p)\n",
    "    result = run_params(run_episode, p, finger= 'ff')\n",
    "    row = row_from_result(result)\n",
    "    print(f\"loudness: {row['loudness']}\")\n",
    "    row['params'] = result.parameters\n",
    "    row_df = pd.DataFrame(row, columns= row.keys(), index= [0])\n",
    "    plucks = pd.concat((plucks, row_df), ignore_index=True)"
   ]
  },
  {
   "cell_type": "code",
   "execution_count": 80,
   "metadata": {},
   "outputs": [
    {
     "data": {
      "text/plain": [
       "<AxesSubplot:xlabel='loudness'>"
      ]
     },
     "execution_count": 80,
     "metadata": {},
     "output_type": "execute_result"
    },
    {
     "data": {
      "image/png": "[encoded data removed]",
      "text/plain": [
       "<Figure size 432x288 with 1 Axes>"
      ]
     },
     "metadata": {
      "needs_background": "light"
     },
     "output_type": "display_data"
    }
   ],
   "source": [
    "sns.swarmplot(x= plucks['loudness'])"
   ]
  },
  {
   "cell_type": "code",
   "execution_count": 56,
   "metadata": {},
   "outputs": [
    {
     "data": {
      "text/plain": [
       "1"
      ]
     },
     "execution_count": 56,
     "metadata": {},
     "output_type": "execute_result"
    }
   ],
   "source": [
    "np.abs(plucks['loudness']- 20).argmin()"
   ]
  },
  {
   "cell_type": "code",
   "execution_count": null,
   "metadata": {},
   "outputs": [
    {
     "data": {
      "text/html": [
       "<div>\n",
       "<style scoped>\n",
       "    .dataframe tbody tr th:only-of-type {\n",
       "        vertical-align: middle;\n",
       "    }\n",
       "\n",
       "    .dataframe tbody tr th {\n",
       "        vertical-align: top;\n",
       "    }\n",
       "\n",
       "    .dataframe thead th {\n",
       "        text-align: right;\n",
       "    }\n",
       "</style>\n",
       "<table border=\"1\" class=\"dataframe\">\n",
       "  <thead>\n",
       "    <tr style=\"text-align: right;\">\n",
       "      <th></th>\n",
       "      <th>note</th>\n",
       "      <th>max_vel_y</th>\n",
       "      <th>max_vel_z</th>\n",
       "      <th>max_acc_y</th>\n",
       "      <th>max_acc_z</th>\n",
       "      <th>max_jerk_y</th>\n",
       "      <th>max_jerk_z</th>\n",
       "      <th>pre_y</th>\n",
       "      <th>pre_z</th>\n",
       "      <th>post_y</th>\n",
       "      <th>post_z</th>\n",
       "      <th>keypoint_pos_y</th>\n",
       "      <th>keypoint_pos_z</th>\n",
       "      <th>keypoint_vel_y</th>\n",
       "      <th>keypoint_vel_z</th>\n",
       "      <th>string_position</th>\n",
       "      <th>onset_cnt</th>\n",
       "      <th>loudness</th>\n",
       "      <th>detected_note</th>\n",
       "      <th>params</th>\n",
       "    </tr>\n",
       "  </thead>\n",
       "  <tbody>\n",
       "    <tr>\n",
       "      <th>0</th>\n",
       "      <td>b3</td>\n",
       "      <td>0.1</td>\n",
       "      <td>0.1</td>\n",
       "      <td>1.0</td>\n",
       "      <td>1.5</td>\n",
       "      <td>8.0</td>\n",
       "      <td>8.0</td>\n",
       "      <td>-0.015</td>\n",
       "      <td>0.015</td>\n",
       "      <td>0.01</td>\n",
       "      <td>0.02</td>\n",
       "      <td>0.0028</td>\n",
       "      <td>-0.004353</td>\n",
       "      <td>0.033185</td>\n",
       "      <td>0.027309</td>\n",
       "      <td>0.17</td>\n",
       "      <td>1</td>\n",
       "      <td>29.446091</td>\n",
       "      <td>B3</td>\n",
       "      <td>header: \\n  seq: 0\\n  stamp: \\n    secs: 0\\n  ...</td>\n",
       "    </tr>\n",
       "    <tr>\n",
       "      <th>1</th>\n",
       "      <td>b3</td>\n",
       "      <td>0.1</td>\n",
       "      <td>0.1</td>\n",
       "      <td>1.0</td>\n",
       "      <td>1.5</td>\n",
       "      <td>8.0</td>\n",
       "      <td>8.0</td>\n",
       "      <td>-0.015</td>\n",
       "      <td>0.015</td>\n",
       "      <td>0.01</td>\n",
       "      <td>0.02</td>\n",
       "      <td>0.0028</td>\n",
       "      <td>-0.004353</td>\n",
       "      <td>0.033185</td>\n",
       "      <td>0.027309</td>\n",
       "      <td>0.17</td>\n",
       "      <td>1</td>\n",
       "      <td>29.299351</td>\n",
       "      <td>B3</td>\n",
       "      <td>header: \\n  seq: 0\\n  stamp: \\n    secs: 0\\n  ...</td>\n",
       "    </tr>\n",
       "    <tr>\n",
       "      <th>2</th>\n",
       "      <td>b3</td>\n",
       "      <td>0.1</td>\n",
       "      <td>0.1</td>\n",
       "      <td>1.0</td>\n",
       "      <td>1.5</td>\n",
       "      <td>8.0</td>\n",
       "      <td>8.0</td>\n",
       "      <td>-0.015</td>\n",
       "      <td>0.015</td>\n",
       "      <td>0.01</td>\n",
       "      <td>0.02</td>\n",
       "      <td>0.0028</td>\n",
       "      <td>-0.004353</td>\n",
       "      <td>0.033185</td>\n",
       "      <td>0.027309</td>\n",
       "      <td>0.17</td>\n",
       "      <td>0</td>\n",
       "      <td>NaN</td>\n",
       "      <td>NaN</td>\n",
       "      <td>header: \\n  seq: 0\\n  stamp: \\n    secs: 0\\n  ...</td>\n",
       "    </tr>\n",
       "  </tbody>\n",
       "</table>\n",
       "</div>"
      ],
      "text/plain": [
       "  note  max_vel_y  max_vel_z  max_acc_y  max_acc_z  max_jerk_y  max_jerk_z  \\\n",
       "0   b3        0.1        0.1        1.0        1.5         8.0         8.0   \n",
       "1   b3        0.1        0.1        1.0        1.5         8.0         8.0   \n",
       "2   b3        0.1        0.1        1.0        1.5         8.0         8.0   \n",
       "\n",
       "   pre_y  pre_z  post_y  post_z  keypoint_pos_y  keypoint_pos_z  \\\n",
       "0 -0.015  0.015    0.01    0.02          0.0028       -0.004353   \n",
       "1 -0.015  0.015    0.01    0.02          0.0028       -0.004353   \n",
       "2 -0.015  0.015    0.01    0.02          0.0028       -0.004353   \n",
       "\n",
       "   keypoint_vel_y  keypoint_vel_z  string_position  onset_cnt   loudness  \\\n",
       "0        0.033185        0.027309             0.17          1  29.446091   \n",
       "1        0.033185        0.027309             0.17          1  29.299351   \n",
       "2        0.033185        0.027309             0.17          0        NaN   \n",
       "\n",
       "  detected_note                                             params  \n",
       "0            B3  header: \\n  seq: 0\\n  stamp: \\n    secs: 0\\n  ...  \n",
       "1            B3  header: \\n  seq: 0\\n  stamp: \\n    secs: 0\\n  ...  \n",
       "2           NaN  header: \\n  seq: 0\\n  stamp: \\n    secs: 0\\n  ...  "
      ]
     },
     "metadata": {},
     "output_type": "display_data"
    }
   ],
   "source": [
    "plucks"
   ]
  },
  {
   "cell_type": "code",
   "execution_count": 85,
   "metadata": {},
   "outputs": [],
   "source": [
    "plucks.to_json('/tmp/plucks.json')"
   ]
  },
  {
   "cell_type": "code",
   "execution_count": 88,
   "metadata": {},
   "outputs": [],
   "source": [
    "target = 25\n",
    "p = RuckigPath.from_action_parameters(plucks.iloc[np.abs(plucks['loudness']-target).argmin()]['params'])"
   ]
  },
  {
   "cell_type": "code",
   "execution_count": 34,
   "metadata": {},
   "outputs": [],
   "source": [
    "plucks_along_string = pd.DataFrame(columns=[])"
   ]
  },
  {
   "cell_type": "code",
   "execution_count": 45,
   "metadata": {},
   "outputs": [
    {
     "name": "stderr",
     "output_type": "stream",
     "text": [
      "  0%|          | 0/9 [00:00<?, ?it/s]"
     ]
    },
    {
     "name": "stdout",
     "output_type": "stream",
     "text": [
      "0.35\n"
     ]
    },
    {
     "name": "stderr",
     "output_type": "stream",
     "text": [
      " 11%|█         | 1/9 [00:07<01:03,  7.97s/it]"
     ]
    },
    {
     "name": "stdout",
     "output_type": "stream",
     "text": [
      "loudness: 20.902320861816406\n",
      "0.35\n"
     ]
    },
    {
     "name": "stderr",
     "output_type": "stream",
     "text": [
      " 22%|██▏       | 2/9 [00:16<00:56,  8.04s/it]"
     ]
    },
    {
     "name": "stdout",
     "output_type": "stream",
     "text": [
      "loudness: 20.204599380493164\n",
      "0.35\n"
     ]
    },
    {
     "name": "stderr",
     "output_type": "stream",
     "text": [
      " 33%|███▎      | 3/9 [00:24<00:48,  8.02s/it]"
     ]
    },
    {
     "name": "stdout",
     "output_type": "stream",
     "text": [
      "loudness: 21.16193389892578\n",
      "0.37\n"
     ]
    },
    {
     "name": "stderr",
     "output_type": "stream",
     "text": [
      " 44%|████▍     | 4/9 [00:32<00:40,  8.15s/it]"
     ]
    },
    {
     "name": "stdout",
     "output_type": "stream",
     "text": [
      "loudness: 18.85198402404785\n",
      "0.37\n"
     ]
    },
    {
     "name": "stderr",
     "output_type": "stream",
     "text": [
      " 56%|█████▌    | 5/9 [00:40<00:32,  8.14s/it]"
     ]
    },
    {
     "name": "stdout",
     "output_type": "stream",
     "text": [
      "loudness: 18.110340118408203\n",
      "0.37\n"
     ]
    },
    {
     "name": "stderr",
     "output_type": "stream",
     "text": [
      " 67%|██████▋   | 6/9 [00:48<00:24,  8.13s/it]"
     ]
    },
    {
     "name": "stdout",
     "output_type": "stream",
     "text": [
      "loudness: 19.575490951538086\n",
      "0.39\n"
     ]
    },
    {
     "name": "stderr",
     "output_type": "stream",
     "text": [
      " 78%|███████▊  | 7/9 [00:56<00:16,  8.14s/it]"
     ]
    },
    {
     "name": "stdout",
     "output_type": "stream",
     "text": [
      "loudness: 17.352783203125\n",
      "0.39\n"
     ]
    },
    {
     "name": "stderr",
     "output_type": "stream",
     "text": [
      " 89%|████████▉ | 8/9 [01:04<00:08,  8.14s/it]"
     ]
    },
    {
     "name": "stdout",
     "output_type": "stream",
     "text": [
      "loudness: 18.173933029174805\n",
      "0.39\n"
     ]
    },
    {
     "name": "stderr",
     "output_type": "stream",
     "text": [
      "100%|██████████| 9/9 [01:12<00:00,  8.09s/it]"
     ]
    },
    {
     "name": "stdout",
     "output_type": "stream",
     "text": [
      "loudness: 18.054935455322266\n"
     ]
    },
    {
     "name": "stderr",
     "output_type": "stream",
     "text": [
      "\n"
     ]
    }
   ],
   "source": [
    "for n in tqdm(np.repeat(np.arange(0.35, 0.4, 0.02), 3)):\n",
    "    print(n)\n",
    "    p.string_position = n\n",
    "    result = run_params(run_episode, p, finger= 'ff')\n",
    "    row = row_from_result(result)\n",
    "    print(f\"loudness: {row['loudness']}\")\n",
    "    row['params'] = result.parameters\n",
    "    row_df = pd.DataFrame(row, columns= row.keys(), index= [0])\n",
    "    plucks_along_string = pd.concat((plucks_along_string, row_df), ignore_index=True)"
   ]
  },
  {
   "cell_type": "code",
   "execution_count": 50,
   "metadata": {},
   "outputs": [
    {
     "data": {
      "image/png": "[encoded data removed]",
      "text/plain": [
       "<Figure size 1800x1200 with 1 Axes>"
      ]
     },
     "metadata": {
      "needs_background": "light"
     },
     "output_type": "display_data"
    }
   ],
   "source": [
    "f=plt.figure(dpi=300)\n",
    "plucks_along_string.plot(kind='scatter', x='string_position', y='loudness', ax=f.gca())\n",
    "f.savefig('/tmp/plucks_along_string.png')"
   ]
  },
  {
   "cell_type": "code",
   "execution_count": null,
   "metadata": {},
   "outputs": [],
   "source": [
    "plucks_along_string.to_json('/tmp/plucks_along_string.json')"
   ]
  },
  {
   "cell_type": "code",
   "execution_count": null,
   "metadata": {},
   "outputs": [],
   "source": []
  }
 ],
 "metadata": {
  "kernelspec": {
   "display_name": "venv",
   "language": "python",
   "name": "python3"
  },
  "language_info": {
   "codemirror_mode": {
    "name": "ipython",
    "version": 3
   },
   "file_extension": ".py",
   "mimetype": "text/x-python",
   "name": "python",
   "nbconvert_exporter": "python",
   "pygments_lexer": "ipython3",
   "version": "3.8.10"
  },
  "orig_nbformat": 4
 },
 "nbformat": 4,
 "nbformat_minor": 2
}
