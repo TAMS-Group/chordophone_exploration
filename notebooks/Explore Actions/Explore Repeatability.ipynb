{
 "cells": [
  {
   "cell_type": "code",
   "execution_count": 8,
   "metadata": {},
   "outputs": [],
   "source": [
    "import matplotlib.pyplot as plt\n",
    "import pandas as pd\n",
    "import seaborn as sns\n",
    "import os\n",
    "from tqdm.auto import tqdm\n",
    "import numpy as np\n",
    "from copy import deepcopy\n",
    "\n",
    "import rospy\n",
    "import actionlib\n",
    "\n",
    "from tams_pr2_guzheng.paths import RuckigPath\n",
    "from tams_pr2_guzheng.onset_to_path import OnsetToPath\n",
    "from tams_pr2_guzheng.utils import *\n",
    "from tams_pr2_guzheng.msg import RunEpisodeAction\n",
    "\n",
    "%matplotlib inline"
   ]
  },
  {
   "cell_type": "code",
   "execution_count": 2,
   "metadata": {},
   "outputs": [],
   "source": [
    "rospy.init_node('jupyter', anonymous=True)"
   ]
  },
  {
   "cell_type": "code",
   "execution_count": 3,
   "metadata": {},
   "outputs": [
    {
     "data": {
      "text/plain": [
       "True"
      ]
     },
     "execution_count": 3,
     "metadata": {},
     "output_type": "execute_result"
    }
   ],
   "source": [
    "run_episode = actionlib.SimpleActionClient('run_episode', RunEpisodeAction)\n",
    "run_episode.wait_for_server()"
   ]
  },
  {
   "cell_type": "code",
   "execution_count": 4,
   "metadata": {},
   "outputs": [
    {
     "name": "stdout",
     "output_type": "stream",
     "text": [
      "1687381716.227272: /jupyter_511654_1687381715669.rosout: OnsetToPath stores 60 plucks\n",
      "F♯4: 46 plucks\n",
      "A4: 5 plucks\n",
      "None: 9 plucks\n",
      "\n",
      "fis4: 60 plucks\n",
      "\n"
     ]
    }
   ],
   "source": [
    "o2p = OnsetToPath(storage='/tmp/plucks.json')"
   ]
  },
  {
   "cell_type": "code",
   "execution_count": 5,
   "metadata": {},
   "outputs": [
    {
     "data": {
      "text/plain": [
       "array([ 8.94813633,  8.94813633,  8.94813633,  8.94813633,  8.94813633,\n",
       "        8.94813633,  8.94813633, 12.01901033, 12.01901033, 12.01901033,\n",
       "       12.01901033, 12.01901033, 12.01901033, 12.01901033, 15.08988433,\n",
       "       15.08988433, 15.08988433, 15.08988433, 15.08988433, 15.08988433,\n",
       "       15.08988433, 18.16075834, 18.16075834, 18.16075834, 18.16075834,\n",
       "       18.16075834, 18.16075834, 18.16075834, 21.23163234, 21.23163234,\n",
       "       21.23163234, 21.23163234, 21.23163234, 21.23163234, 21.23163234,\n",
       "       24.30250634, 24.30250634, 24.30250634, 24.30250634, 24.30250634,\n",
       "       24.30250634, 24.30250634, 27.37338034, 27.37338034, 27.37338034,\n",
       "       27.37338034, 27.37338034, 27.37338034, 27.37338034, 30.44425435,\n",
       "       30.44425435, 30.44425435, 30.44425435, 30.44425435, 30.44425435,\n",
       "       30.44425435, 33.51512835, 33.51512835, 33.51512835, 33.51512835,\n",
       "       33.51512835, 33.51512835, 33.51512835, 36.58600235, 36.58600235,\n",
       "       36.58600235, 36.58600235, 36.58600235, 36.58600235, 36.58600235])"
      ]
     },
     "execution_count": 5,
     "metadata": {},
     "output_type": "execute_result"
    }
   ],
   "source": [
    "note= 'F♯4'\n",
    "targets = np.repeat(np.linspace(*o2p.get_note_min_max('F♯4'), 10), 7)\n",
    "targets"
   ]
  },
  {
   "cell_type": "code",
   "execution_count": 29,
   "metadata": {},
   "outputs": [
    {
     "data": {
      "text/plain": [
       "count    60.000000\n",
       "mean      0.173282\n",
       "std       0.122500\n",
       "min       0.000472\n",
       "25%       0.071125\n",
       "50%       0.174080\n",
       "75%       0.275830\n",
       "max       0.348061\n",
       "Name: string_position, dtype: float64"
      ]
     },
     "execution_count": 29,
     "metadata": {},
     "output_type": "execute_result"
    }
   ],
   "source": [
    "o2p.pluck_table['string_position'].describe()"
   ]
  },
  {
   "cell_type": "code",
   "execution_count": 31,
   "metadata": {},
   "outputs": [
    {
     "data": {
      "application/json": {
       "ascii": false,
       "bar_format": null,
       "colour": null,
       "elapsed": 0.07105731964111328,
       "initial": 0,
       "n": 0,
       "ncols": null,
       "nrows": null,
       "postfix": null,
       "prefix": "",
       "rate": null,
       "total": 70,
       "unit": "it",
       "unit_divisor": 1000,
       "unit_scale": false
      },
      "application/vnd.jupyter.widget-view+json": {
       "model_id": "fac906b7920246fd8817409225525e69",
       "version_major": 2,
       "version_minor": 0
      },
      "text/plain": [
       "  0%|          | 0/70 [00:00<?, ?it/s]"
      ]
     },
     "metadata": {},
     "output_type": "display_data"
    },
    {
     "name": "stderr",
     "output_type": "stream",
     "text": [
      "1687383775.162467: /jupyter_511654_1687381715669.rosout: Got a transition callback on a goal handle that we're not tracking\n",
      "1687383781.329490: /jupyter_511654_1687381715669.rosout: Got a transition callback on a goal handle that we're not tracking\n",
      "1687383794.002250: /jupyter_511654_1687381715669.rosout: Got a transition callback on a goal handle that we're not tracking\n",
      "1687383800.199445: /jupyter_511654_1687381715669.rosout: Got a transition callback on a goal handle that we're not tracking\n",
      "1687383850.087445: /jupyter_511654_1687381715669.rosout: Got a transition callback on a goal handle that we're not tracking\n",
      "1687383899.599424: /jupyter_511654_1687381715669.rosout: Got a transition callback on a goal handle that we're not tracking\n",
      "1687383918.113208: /jupyter_511654_1687381715669.rosout: Got a transition callback on a goal handle that we're not tracking\n",
      "1687383980.534526: /jupyter_511654_1687381715669.rosout: Got a transition callback on a goal handle that we're not tracking\n",
      "1687383986.765545: /jupyter_511654_1687381715669.rosout: Got a transition callback on a goal handle that we're not tracking\n",
      "1687384012.054319: /jupyter_511654_1687381715669.rosout: Got a transition callback on a goal handle that we're not tracking\n",
      "1687384049.869206: /jupyter_511654_1687381715669.rosout: Got a transition callback on a goal handle that we're not tracking\n",
      "1687384068.681508: /jupyter_511654_1687381715669.rosout: Got a transition callback on a goal handle that we're not tracking\n",
      "1687384106.225063: /jupyter_511654_1687381715669.rosout: Got a transition callback on a goal handle that we're not tracking\n",
      "1687384118.641671: /jupyter_511654_1687381715669.rosout: Got a transition callback on a goal handle that we're not tracking\n",
      "1687384137.623280: /jupyter_511654_1687381715669.rosout: Got a transition callback on a goal handle that we're not tracking\n",
      "1687384169.078732: /jupyter_511654_1687381715669.rosout: Got a transition callback on a goal handle that we're not tracking\n",
      "1687384187.746445: /jupyter_511654_1687381715669.rosout: Got a transition callback on a goal handle that we're not tracking\n",
      "1687384200.056710: /jupyter_511654_1687381715669.rosout: Got a transition callback on a goal handle that we're not tracking\n"
     ]
    }
   ],
   "source": [
    "characterize_run= \"loudness_performance-15perdirransac-30perdirloudness-dir-1.0-position0.17\"\n",
    "df = pd.DataFrame(columns= ['target_loudness', 'loudness', 'only_expected'])\n",
    "results = []\n",
    "for t in tqdm(targets):\n",
    "    p, _finger = o2p.get_path(note, 'ff', -1.0, t, 0.17)\n",
    "    r = run_params(run_episode, p, finger='ff')\n",
    "    expected_onsets = sorted([o for o in r.onsets if o.note == note], key= lambda o: o.loudness, reverse= True)\n",
    "    unexpected_onsets = sorted([o for o in r.onsets if o.note != note], key= lambda o: o.loudness, reverse= True)\n",
    "\n",
    "\n",
    "    if len(unexpected_onsets) > 0:\n",
    "        row = {'target_loudness': t, 'loudness': unexpected_onsets[0].loudness, 'only_expected': False}\n",
    "    elif len(expected_onsets) == 0:\n",
    "        row = {'target_loudness': t, 'loudness': 0.0, 'only_expected': True}\n",
    "    else:\n",
    "        row = {'target_loudness': t, 'loudness': expected_onsets[0].loudness, 'only_expected': True}\n",
    "\n",
    "    row_df = pd.DataFrame(row, columns= row.keys(), index= [0])\n",
    "    df = pd.concat((df, row_df), axis= 0, ignore_index=True)"
   ]
  },
  {
   "cell_type": "code",
   "execution_count": 34,
   "metadata": {},
   "outputs": [
    {
     "data": {
      "image/png": "[encoded data removed]",
      "text/plain": [
       "<Figure size 432x288 with 1 Axes>"
      ]
     },
     "metadata": {
      "needs_background": "light"
     },
     "output_type": "display_data"
    }
   ],
   "source": [
    "plt.figure()\n",
    "df[df['only_expected']].plot(x= 'target_loudness', y= 'loudness', style= 'go', ax= plt.gca());\n",
    "df[np.logical_not(df['only_expected'])].plot(x= 'target_loudness', y= 'loudness', style= 'rx', ax= plt.gca());\n",
    "plt.xlabel('target loudness')\n",
    "plt.ylabel('observed loudness')\n",
    "\n",
    "lim = (0.0, targets.max())\n",
    "plt.xlim(lim)\n",
    "plt.ylim(lim)\n",
    "plt.legend(['valid', 'invalid'], loc= 'upper left')\n",
    "\n",
    "plt.savefig(f'/tmp/{characterize_run}.png', dpi= 300)\n",
    "df.to_json(f'/tmp/{characterize_run}.json')"
   ]
  },
  {
   "cell_type": "code",
   "execution_count": 33,
   "metadata": {},
   "outputs": [],
   "source": [
    "characterize_run= \"loudness_performance-15perdirransac-30perdirloudness-dir1.0-variableposition\"\n",
    "df = pd.read_json(f\"/tmp/{characterize_run}.json\")"
   ]
  }
 ],
 "metadata": {
  "kernelspec": {
   "display_name": "venv",
   "language": "python",
   "name": "python3"
  },
  "language_info": {
   "codemirror_mode": {
    "name": "ipython",
    "version": 3
   },
   "file_extension": ".py",
   "mimetype": "text/x-python",
   "name": "python",
   "nbconvert_exporter": "python",
   "pygments_lexer": "ipython3",
   "version": "3.8.10"
  },
  "orig_nbformat": 4
 },
 "nbformat": 4,
 "nbformat_minor": 2
}
