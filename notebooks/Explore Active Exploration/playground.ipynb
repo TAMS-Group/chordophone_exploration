{
 "cells": [
  {
   "cell_type": "code",
   "execution_count": null,
   "metadata": {},
   "outputs": [],
   "source": [
    "import librosa\n",
    "import matplotlib as mpl\n",
    "import numpy as np\n",
    "import random\n",
    "import rosbag\n",
    "import struct\n",
    "import tams_pr2_guzheng\n",
    "import tams_pr2_guzheng.utils as utils\n",
    "import pandas as pd\n",
    "import seaborn as sns\n",
    "\n",
    "from collections import Counter\n",
    "\n",
    "from matplotlib import pyplot as plt\n",
    "from matplotlib import cm\n",
    "from matplotlib.animation import FuncAnimation\n",
    "from tams_pr2_guzheng.paths import RuckigPath\n",
    "from IPython import display\n",
    "\n",
    "mpl.style.use('seaborn-v0_8')\n",
    "\n",
    "%load_ext autoreload\n",
    "%autoreload 1\n",
    "import sys\n",
    "if '../utils' not in sys.path:\n",
    "    sys.path.append('../utils')\n",
    "import u\n",
    "%aimport u"
   ]
  },
  {
   "cell_type": "code",
   "execution_count": null,
   "metadata": {},
   "outputs": [],
   "source": [
    "D= pd.read_json('../../../../data/20230823 - first active explorations/plucks_explore_fis4.json')\n",
    "#D= pd.read_json('../../../../data/20230823 - first active explorations/plucks_explore_d4_2.json')\n",
    "D.columns"
   ]
  },
  {
   "cell_type": "code",
   "execution_count": null,
   "metadata": {},
   "outputs": [],
   "source": [
    "DF= D[['string','keypoint_pos_y', 'string_position', 'detected_note', 'loudness', 'unexpected_onsets', 'min_distance']].copy()\n",
    "DF.describe()"
   ]
  },
  {
   "cell_type": "code",
   "execution_count": null,
   "metadata": {},
   "outputs": [],
   "source": [
    "string_len = DF['string_position'].max()\n",
    "actionspace = RuckigPath.ActionSpace(\n",
    "    string_position= np.array((0.0, string_len)),\n",
    "    keypoint_pos_y= np.array((-0.007, 0.015)),\n",
    "    keypoint_pos_z= np.array((-0.004,)),\n",
    "    keypoint_vel_y= np.array((0.015,)),\n",
    "    keypoint_vel_z= np.array((0.015,)),\n",
    ")\n",
    "\n",
    "features_norm_params = (\n",
    "    np.array([actionspace.string_position[1]/2, (actionspace.keypoint_pos_y[0] + (actionspace.keypoint_pos_y[1]-actionspace.keypoint_pos_y[0])/2) ]),\n",
    "    np.array([actionspace.string_position[1]/4, (actionspace.keypoint_pos_y[1] - actionspace.keypoint_pos_y[0])/4])\n",
    ")\n",
    "\n",
    "DG = utils.make_grid_points(actionspace, 50)"
   ]
  },
  {
   "cell_type": "code",
   "execution_count": null,
   "metadata": {},
   "outputs": [],
   "source": [
    "fig, ax = plt.subplots(1,3, figsize=(18,5))\n",
    "cmap= sns.cubehelix_palette(as_cmap=True)\n",
    "\n",
    "DL = DF[DF['loudness'].notnull()].copy()\n",
    "\n",
    "features = DL[['string_position', 'keypoint_pos_y']]\n",
    "value = DL['loudness'] #.fillna(0.0)\n",
    "utils.plot_trials(DF, DF['loudness'], ax= ax[0], actionspace= actionspace)\n",
    "\n",
    "gp_loudness = utils.fit_gp(utils.normalize(features, features_norm_params), value, normalize= True, alpha= 1.0, rbf_length= 1.5)\n",
    "GridPred= pd.DataFrame()\n",
    "GridPred['mean'], GridPred['std'] = gp_loudness.predict(utils.normalize(DG.values, features_norm_params), return_std= True)\n",
    "DL['safe_score'] = utils.score_safety(DF)\n",
    "\n",
    "utils.grid_plot(GridPred['mean'], actionspace, cmap= cmap, ax= ax[1])\n",
    "ax[1].set_title('loudness mean prediction')\n",
    "utils.grid_plot(GridPred['std'], actionspace, cmap= cmap, ax= ax[2])\n",
    "ax[2].set_title('loudness std prediction');"
   ]
  },
  {
   "cell_type": "code",
   "execution_count": null,
   "metadata": {},
   "outputs": [],
   "source": [
    "Grid = DG.merge(GridPred, left_index= True, right_index= True)\n",
    "keypoint_pos_y = (Grid['keypoint_pos_y'].unique()[0])\n",
    "Gr = Grid[Grid['keypoint_pos_y'] == keypoint_pos_y]\n",
    "sns.lineplot(data=Gr, x='string_position', y= 'mean', estimator= None)\n",
    "plt.fill_between(Gr['string_position'], Gr['mean']-Gr['std'], Gr['mean']+Gr['std'], alpha= 0.5)\n",
    "\n",
    "sns.scatterplot(data= DF[np.abs(DF['keypoint_pos_y']-keypoint_pos_y) < 0.001], x='string_position', y= 'loudness')"
   ]
  },
  {
   "cell_type": "code",
   "execution_count": null,
   "metadata": {},
   "outputs": [],
   "source": [
    "\n",
    "# create mpl animation over all keypoint_pos_y\n",
    "keypoint_pos_y = Grid['keypoint_pos_y'].unique()\n",
    "fig, ax = plt.subplots()\n",
    "\n",
    "def animate(i):\n",
    "    ax.clear()\n",
    "    ax.set_title(f'keypoint_pos_y = {keypoint_pos_y[i]:.4f}')\n",
    "    Gr = Grid[Grid['keypoint_pos_y'] == keypoint_pos_y[i]]\n",
    "    sns.lineplot(data=Gr, x='string_position', y= 'mean', estimator= None, ax= ax)\n",
    "    ax.fill_between(Gr['string_position'], Gr['mean']-Gr['std'], Gr['mean']+Gr['std'], alpha= 0.5)\n",
    "    sns.scatterplot(data= DF[np.abs(DF['keypoint_pos_y']-keypoint_pos_y[i]) < 0.001], x='string_position', y= 'loudness', ax= ax)\n",
    "\n",
    "    # ax.set_ylim(-0.5, 1.5)\n",
    "    # ax.set_xlim(0, 0.5)\n",
    "    # ax.set_xlabel('string_position')\n",
    "    # ax.set_ylabel('loudness')\n",
    "    return ax\n",
    "\n",
    "anim = FuncAnimation(fig, animate, frames= len(keypoint_pos_y), interval= 300)\n",
    "display.HTML(anim.to_html5_video())\n",
    "#plt.close()"
   ]
  },
  {
   "cell_type": "code",
   "execution_count": null,
   "metadata": {},
   "outputs": [],
   "source": [
    "# create mpl animation over all keypoint_pos_y\n",
    "string_position = Grid['string_position'].unique()\n",
    "fig, ax = plt.subplots()\n",
    "\n",
    "def animate_sp(i):\n",
    "    ax.clear()\n",
    "    ax.set_title(f'string_position = {string_position[i]:.4f}')\n",
    "    Gr = Grid[Grid['string_position'] == string_position[i]]\n",
    "    sns.lineplot(data=Gr, x='keypoint_pos_y', y= 'mean', estimator= None, ax= ax)\n",
    "    ax.fill_between(Gr['keypoint_pos_y'], Gr['mean']-Gr['std'], Gr['mean']+Gr['std'], alpha= 0.5)\n",
    "    sns.scatterplot(data= DF[np.abs(DF['string_position']-string_position[i]) < 0.015], x='keypoint_pos_y', y= 'loudness', ax= ax)\n",
    "\n",
    "    #ax.set_ylim(-0.5, 1.5)\n",
    "    ax.set_xlim(Grid['keypoint_pos_y'].min(), Grid['keypoint_pos_y'].max())\n",
    "    ax.set_ylim(DF['loudness'].min(), DF['loudness'].max())\n",
    "    ax.set_xlabel('keypoint_pos_y')\n",
    "    ax.set_ylabel('loudness')\n",
    "    return ax\n",
    "\n",
    "anim = FuncAnimation(fig, animate_sp, frames= len(string_position), interval= 200)\n",
    "display.HTML(anim.to_html5_video())\n",
    "#plt.close()"
   ]
  },
  {
   "cell_type": "code",
   "execution_count": null,
   "metadata": {},
   "outputs": [],
   "source": []
  }
 ],
 "metadata": {
  "kernelspec": {
   "display_name": "venv",
   "language": "python",
   "name": "python3"
  },
  "language_info": {
   "codemirror_mode": {
    "name": "ipython",
    "version": 3
   },
   "file_extension": ".py",
   "mimetype": "text/x-python",
   "name": "python",
   "nbconvert_exporter": "python",
   "pygments_lexer": "ipython3",
   "version": "3.11.4"
  },
  "orig_nbformat": 4
 },
 "nbformat": 4,
 "nbformat_minor": 2
}
