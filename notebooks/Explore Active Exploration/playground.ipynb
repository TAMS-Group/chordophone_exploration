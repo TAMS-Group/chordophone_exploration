{
 "cells": [
  {
   "cell_type": "code",
   "execution_count": null,
   "metadata": {},
   "outputs": [],
   "source": [
    "import librosa\n",
    "import matplotlib as mpl\n",
    "import numpy as np\n",
    "import random\n",
    "import rosbag\n",
    "import struct\n",
    "import tams_pr2_guzheng\n",
    "import tams_pr2_guzheng.utils as utils\n",
    "import pandas as pd\n",
    "import seaborn as sns\n",
    "\n",
    "from collections import Counter\n",
    "\n",
    "from matplotlib import pyplot as plt\n",
    "from matplotlib import cm\n",
    "from matplotlib.animation import FuncAnimation\n",
    "from tams_pr2_guzheng.paths import RuckigPath\n",
    "from IPython import display\n",
    "\n",
    "#mpl.style.use('seaborn-v0_8')\n",
    "\n",
    "%load_ext autoreload\n",
    "%autoreload 1\n",
    "import sys\n",
    "if '../utils' not in sys.path:\n",
    "    sys.path.append('../utils')\n",
    "import u\n",
    "%aimport u"
   ]
  },
  {
   "cell_type": "markdown",
   "metadata": {},
   "source": [
    "# helpers & setup"
   ]
  },
  {
   "cell_type": "code",
   "execution_count": null,
   "metadata": {},
   "outputs": [],
   "source": [
    "def scatter_cbar(*, data, x, y, hue, hue_norm= None, cmap= None, ax= None, **kwargs):\n",
    "    if ax is None:\n",
    "        ax = plt.gca()\n",
    "    if hue_norm is None:\n",
    "        hue_norm = mpl.colors.Normalize()\n",
    "    if cmap is None:\n",
    "        cmap = sns.color_palette('ch:', as_cmap= True)\n",
    "    x = data[x] if type(x) == str else x\n",
    "    y = data[y] if type(y) == str else y\n",
    "    hue = data[hue] if type(hue) == str else hue\n",
    "    sm = plt.cm.ScalarMappable(cmap=cmap, norm=hue_norm)\n",
    "    sns.scatterplot(\n",
    "        data= data,\n",
    "        x= x,\n",
    "        y= y,\n",
    "        hue= hue,\n",
    "        hue_norm= sm.norm,\n",
    "        palette= cmap if data.size > 0 else None,\n",
    "        legend= False)\n",
    "    cbar = ax.figure.colorbar(sm, ax = ax)\n",
    "    cbar.set_label(hue.name)"
   ]
  },
  {
   "cell_type": "code",
   "execution_count": null,
   "metadata": {},
   "outputs": [],
   "source": [
    "def slice_animation(*, data, grid, slice_var, plot_x, plot_y, time_per_slice= 150):\n",
    "    fig, ax = plt.subplots()\n",
    "    palette = sns.color_palette(\"icefire\", as_cmap=True)\n",
    "    sm = plt.cm.ScalarMappable(\n",
    "        cmap= palette,\n",
    "        norm=mpl.colors.Normalize()\n",
    "        )\n",
    "    fig.colorbar(sm, ax = ax).set_label('distance to slice')\n",
    "\n",
    "    slices = grid[slice_var].unique()\n",
    "    slice_thickness = 3*np.ptp(slices)/len(slices)\n",
    "\n",
    "    if len(plot_y) == 3:\n",
    "        plot_y_data, plot_y_pred_mean, plot_y_pred_std = plot_y\n",
    "    else:\n",
    "        plot_y_data, plot_y_pred_mean = plot_y\n",
    "        plot_y_pred_std = None\n",
    "\n",
    "    def animate(i):\n",
    "        ax.clear()\n",
    "        ax.set_title(f'{slice_var} = {slices[i]:.4f}')\n",
    "        grid_slice = grid[grid[slice_var] == slices[i]]\n",
    "        if plot_y_pred_std is None:\n",
    "            sns.lineplot(x=grid_slice[plot_x], y= grid_slice[plot_y_pred_mean].rename(plot_y_data), estimator= None, ax= ax)\n",
    "        else:\n",
    "            utils.plot_mean_std(grid_slice[plot_x], grid_slice[plot_y_pred_mean].rename(plot_y_data), grid_slice[plot_y_pred_std], ax= ax)\n",
    "        ax.set_xlim(grid[plot_x].min(), grid[plot_x].max())\n",
    "        eps= data[plot_y_data].values.ptp()/10\n",
    "        \n",
    "        if plot_y_pred_std is None:\n",
    "            pred_lim_min = (grid[plot_y_pred_mean]).min()\n",
    "            pred_lim_max = (grid[plot_y_pred_mean]).max()\n",
    "        else:\n",
    "            pred_lim_min = (grid[plot_y_pred_mean]-grid[plot_y_pred_std]).min()\n",
    "            pred_lim_max = (grid[plot_y_pred_mean]+grid[plot_y_pred_std]).max()\n",
    "        \n",
    "        ax.set_ylim(\n",
    "            min((pred_lim_min, data[plot_y_data].min()-eps)),\n",
    "            max((pred_lim_max, data[plot_y_data].max()+eps))\n",
    "        )\n",
    "\n",
    "        distance_to_slice = data[slice_var]-slices[i]\n",
    "        selection_mask = np.abs(distance_to_slice) <= slice_thickness\n",
    "        spread = np.max(np.abs(distance_to_slice[selection_mask]))\n",
    "        sm.norm = mpl.colors.Normalize(-spread, spread)\n",
    "        sns.scatterplot(\n",
    "            data= data[selection_mask],\n",
    "            x= plot_x,\n",
    "            y= plot_y_data,\n",
    "            hue= distance_to_slice[selection_mask].rename('distance to slice'),\n",
    "            hue_norm= sm.norm,\n",
    "            palette= palette if selection_mask.any() else None,\n",
    "            ax= ax,\n",
    "            legend= False\n",
    "        )\n",
    "        return ax\n",
    "\n",
    "    anim = FuncAnimation(fig, animate, frames= len(slices), interval= time_per_slice)\n",
    "    plt.close(fig)\n",
    "    return anim"
   ]
  },
  {
   "cell_type": "code",
   "execution_count": null,
   "metadata": {},
   "outputs": [],
   "source": [
    "D_FILE= 'plucks_explore_fis4_outwards.json'\n",
    "D_FILE= 'plucks_explore_d4_2_outwards.json'\n",
    "D_FILE= 'plucks_explore_b3_3_inwards.json'\n",
    "D_FILE= 'plucks_explore_b3_3_outwards.json'\n",
    "\n",
    "D_FILE= 'plucks_explore.json'\n",
    "\n",
    "FOLDER = '/homeL/pr2admin/pr2/michael/guzheng/src/tams_pr2_guzheng/data'"
   ]
  },
  {
   "cell_type": "code",
   "execution_count": null,
   "metadata": {},
   "outputs": [],
   "source": [
    "D_NAME= D_FILE.split('.')[0]\n",
    "D= pd.read_json(f'{FOLDER}/{D_FILE}')\n",
    "#D= pd.read_json('/homeL/pr2admin/pr2/michael/guzheng/src/tams_pr2_guzheng/data/plucks_explore_b3_3_inwards.json')\n",
    "DF= D[['string','keypoint_pos_y', 'string_position', 'detected_note', 'loudness', 'unexpected_onsets', 'min_distance']].copy()\n",
    "\n",
    "print(D.columns)\n",
    "DF.describe()"
   ]
  },
  {
   "cell_type": "code",
   "execution_count": null,
   "metadata": {},
   "outputs": [],
   "source": [
    "# prepare actionspace and grid\n",
    "\n",
    "DF = DF[DF['min_distance'].notna()].copy()  # this should not be necessary, but for some reason it can happen? (maybe when failed record the trajectory?)\n",
    "DL = DF[DF['loudness'].notna()].copy()  # all samples without onset are nan\n",
    "\n",
    "string_len = DF['string_position'].max()\n",
    "\n",
    "actionspace = RuckigPath.ActionSpace(\n",
    "    string_position= np.array((0.0, string_len)),\n",
    "    # keypoint_pos_y= np.array((-0.007, 0.015)),\n",
    "    keypoint_pos_y= np.array((-0.015, 0.007)),\n",
    "    keypoint_pos_z= np.array((-0.004,)),\n",
    "    keypoint_vel_y= np.array((0.015,)),\n",
    "    keypoint_vel_z= np.array((0.015,)),\n",
    ")\n",
    "\n",
    "features_norm_params = (\n",
    "    np.array([actionspace.string_position[1]/2, (actionspace.keypoint_pos_y[0] + (actionspace.keypoint_pos_y[1]-actionspace.keypoint_pos_y[0])/2) ]),\n",
    "    np.array([actionspace.string_position[1]/4, (actionspace.keypoint_pos_y[1] - actionspace.keypoint_pos_y[0])/4])\n",
    ")\n",
    "\n",
    "grid_size = 50\n",
    "GridPoints = utils.make_grid_points(actionspace, grid_size)\n",
    "GridPred= pd.DataFrame()"
   ]
  },
  {
   "cell_type": "markdown",
   "metadata": {},
   "source": [
    "# loudness"
   ]
  },
  {
   "cell_type": "code",
   "execution_count": null,
   "metadata": {},
   "outputs": [],
   "source": [
    "features = DL[['string_position', 'keypoint_pos_y']]\n",
    "value = DL['loudness'] #.fillna(0.0)\n",
    "\n",
    "gp_loudness = utils.fit_gp(\n",
    "    utils.normalize(features, features_norm_params),\n",
    "    value,\n",
    "    normalize= True,\n",
    "    alpha= 3.0,\n",
    "    rbf_length= (0.3, 0.3),\n",
    "    train= True\n",
    ")\n",
    "print(f\"fit scale params: {gp_loudness.kernel_.k2.get_params()['length_scale']}\")\n",
    "\n",
    "GridPred['mean'], GridPred['std'] = gp_loudness.predict(utils.normalize(GridPoints.values, features_norm_params), return_std= True)\n",
    "Grid = GridPoints.merge(GridPred, left_index= True, right_index= True)"
   ]
  },
  {
   "cell_type": "code",
   "execution_count": null,
   "metadata": {},
   "outputs": [],
   "source": [
    "fig, ax = plt.subplots(1,3, figsize=(18,5))\n",
    "cmap= sns.cubehelix_palette(as_cmap=True)\n",
    "utils.plot_trials(DF, DF['loudness'], ax= ax[0], actionspace= actionspace)\n",
    "utils.grid_plot(GridPred['mean'], actionspace, cmap= cmap, ax= ax[1])\n",
    "ax[1].set_title('loudness mean prediction')\n",
    "utils.grid_plot(GridPred['std'], actionspace, cmap= cmap, ax= ax[2])\n",
    "ax[2].set_title('loudness std prediction');\n",
    "fig.tight_layout()\n",
    "u.save_plot(f'{D_NAME} loudness prediction')"
   ]
  },
  {
   "cell_type": "code",
   "execution_count": null,
   "metadata": {},
   "outputs": [],
   "source": [
    "#plt.figure(dpi=300)\n",
    "hue= 'keypoint_pos_y'\n",
    "hue_spread = DF[hue].abs().max()\n",
    "scatter_cbar(\n",
    "    data= DF,\n",
    "    x= 'string_position',\n",
    "    y= 'loudness',\n",
    "    hue= 'keypoint_pos_y', \n",
    "    cmap=sns.color_palette('icefire', as_cmap=True),\n",
    "    norm= plt.Normalize(-hue_spread, hue_spread)\n",
    ")\n",
    "u.save_plot(f'{D_NAME} loudness overview')"
   ]
  },
  {
   "cell_type": "code",
   "execution_count": null,
   "metadata": {},
   "outputs": [],
   "source": [
    "a= slice_animation(\n",
    "    data= DL,\n",
    "    grid= Grid,\n",
    "    slice_var= 'keypoint_pos_y',\n",
    "    plot_x= 'string_position',\n",
    "    plot_y= ('loudness', 'mean', 'std')\n",
    ")\n",
    "u.save_anim(a, f'{D_NAME} loudness prediction slice along keypoint_pos_y')"
   ]
  },
  {
   "cell_type": "code",
   "execution_count": null,
   "metadata": {},
   "outputs": [],
   "source": [
    "a= slice_animation(\n",
    "    data= DL,\n",
    "    grid= Grid,\n",
    "    slice_var= 'string_position',\n",
    "    plot_x= 'keypoint_pos_y',\n",
    "    plot_y= ('loudness', 'mean', 'std')\n",
    ")\n",
    "u.save_anim(a, f'{D_NAME} loudness prediction slice along string position')"
   ]
  },
  {
   "cell_type": "markdown",
   "metadata": {},
   "source": [
    "# safety"
   ]
  },
  {
   "cell_type": "code",
   "execution_count": null,
   "metadata": {},
   "outputs": [],
   "source": [
    "# # overview histograms for safety inputs\n",
    "# fig, ax = plt.subplots(1,2, figsize=(10,5), sharex=True, sharey=True, dpi=50)\n",
    "# ax[0].set_title('min distance all samples')\n",
    "# DF['min_distance'].hist(bins= 50, ax= ax[0])\n",
    "# ax[1].set_title('min distance with onset')\n",
    "# DL['min_distance'].hist(bins= 50, ax= ax[1])\n",
    "# fig, ax = plt.subplots(1,2, figsize=(10,5), dpi=50)\n",
    "# DF['loudness'].fillna(20).hist(bins= 50, ax=ax[0])\n",
    "# ax[0].set_title('loudness')\n",
    "# DF['unexpected_onsets'].hist(bins= 50, ax=ax[1])\n",
    "# ax[1].set_title('unexpected_onsets');"
   ]
  },
  {
   "cell_type": "code",
   "execution_count": null,
   "metadata": {},
   "outputs": [],
   "source": [
    "# compute safety and plot overview\n",
    "\n",
    "def score_safety(df):\n",
    "    # minimum distance to neighbors to consider safe\n",
    "    # empirically determined accuracy of string fitting\n",
    "    safe_threshold = 0.001 # m\n",
    "\n",
    "    # distance to saturation of distance safety score\n",
    "    saturation_threshold  = 0.015 # m\n",
    "\n",
    "    # loudness cut-off\n",
    "    loudness_threshold = 65.0 # dBA\n",
    "\n",
    "    a = 1/(saturation_threshold-safe_threshold)\n",
    "    b = -a*safe_threshold\n",
    "\n",
    "    # create new pandas series with same index as df\n",
    "    scores = pd.Series(np.zeros(len(df)), index= df.index, name='safety')\n",
    "\n",
    "    #scores = (a*df['min_distance']+b)\n",
    "    #scores[df['min_distance'] >= saturation_threshold] = 1.0\n",
    "    scores.iloc[:] = 0.5\n",
    "    scores[df['loudness'].isna()] = -0.5\n",
    "    scores[df['loudness'] > loudness_threshold] = -0.5\n",
    "    scores[df['unexpected_onsets'] > 0] = -0.5\n",
    "    \n",
    "    return scores\n",
    "\n",
    "# DF['safety_score'] = score_safety(DF)\n",
    "DF['safety_score'] = utils.score_safety(DF)\n",
    "\n",
    "hue= 'keypoint_pos_y'\n",
    "hue_spread = DF[hue].abs().max()\n",
    "scatter_cbar(\n",
    "    data= DF,\n",
    "    x= 'string_position',\n",
    "    y= 'safety_score',\n",
    "    hue= 'keypoint_pos_y',\n",
    "    hue_norm= plt.Normalize(-hue_spread, hue_spread),\n",
    "    cmap=sns.color_palette('icefire', as_cmap=True),\n",
    ")\n",
    "sns.scatterplot(data= DF[DF['loudness'].isna()], x= 'string_position', y= 'safety_score', color= 'red', marker= 'x', s= 30);"
   ]
  },
  {
   "cell_type": "code",
   "execution_count": null,
   "metadata": {},
   "outputs": [],
   "source": [
    "DFFull = DF.copy()"
   ]
  },
  {
   "cell_type": "code",
   "execution_count": null,
   "metadata": {},
   "outputs": [],
   "source": [
    "DF = DFFull.copy()"
   ]
  },
  {
   "cell_type": "code",
   "execution_count": null,
   "metadata": {},
   "outputs": [],
   "source": [
    "DF = DFFull.copy()\n",
    "#DF = DF.iloc[:1]\n",
    "gp_safety = utils.fit_gp(\n",
    "    utils.normalize(DF[['string_position', 'keypoint_pos_y']], features_norm_params),\n",
    "    DF['safety_score'].values,\n",
    "    normalize= False,\n",
    "    alpha= 0.5,\n",
    "    rbf_length= 0.5\n",
    "    )\n",
    "GridPred['safety_mean'], GridPred['safety_std'] = gp_safety.predict(utils.normalize(GridPoints.values, features_norm_params), return_std= True)\n",
    "Grid = GridPoints.merge(GridPred, left_index= True, right_index= True)\n",
    "\n",
    "fig, ax = plt.subplots(2,2, figsize=(12,10))#, dpi=300)\n",
    "ax = ax.ravel()\n",
    "cmap= sns.cubehelix_palette(as_cmap=True)\n",
    "utils.plot_trials(DF, DF['safety_score'], ax= ax[0], actionspace= actionspace)\n",
    "utils.grid_plot(GridPred['safety_mean'], actionspace, cmap= cmap, ax= ax[2])\n",
    "ax[2].set_title('safety score mean prediction')\n",
    "utils.grid_plot(GridPred['safety_std'], actionspace, cmap= cmap, ax= ax[3])\n",
    "ax[3].set_title('safety score std prediction');\n",
    "\n",
    "Grid['p_safety'] = utils.prob_gt_zero(GridPred[['safety_mean', 'safety_std']].values.T)\n",
    "# cmap = sns.color_palette('viridis', as_cmap= True)\n",
    "# utils.grid_plot(Grid['p_safety'], actionspace, cmap= cmap, ax= ax[1])\n",
    "\n",
    "utils.plot_trials(DF, DF['safety_score'], ax= ax[1], actionspace= actionspace)\n",
    "\n",
    "print(f\"max probability of safety: {Grid['p_safety'].max():.4f}\")\n",
    "levels= [l for l in [0.5, 0.7, 0.9, 0.95] if l < Grid['p_safety'].max()]\n",
    "con = ax[1].contour(\n",
    "    Grid['string_position'].values.reshape(grid_size, grid_size),\n",
    "    Grid['keypoint_pos_y'].values.reshape(grid_size,grid_size),\n",
    "    Grid['p_safety'].values.reshape(grid_size,grid_size),\n",
    "    levels= levels,\n",
    "    cmap= cmap,\n",
    "    alpha= 0.5\n",
    ")\n",
    "ax[1].clabel(con, inline=1, fontsize=10)\n",
    "ax[1].set_title('probability of score > 0.0');\n",
    "u.save_plot(f'{D_NAME} safety prediction')"
   ]
  },
  {
   "cell_type": "code",
   "execution_count": null,
   "metadata": {},
   "outputs": [],
   "source": [
    "utils.grid_plot(Grid['p_safety'], actionspace, cmap= sns.color_palette('icefire', as_cmap= True))\n",
    "u.save_plot(f'{D_NAME} safety prediction heatmap')"
   ]
  },
  {
   "cell_type": "code",
   "execution_count": null,
   "metadata": {},
   "outputs": [],
   "source": [
    "utils.plot_trials(DF, DF['unexpected_onsets'], actionspace= actionspace, cmap = sns.color_palette('Reds', as_cmap= True))\n",
    "u.save_plot(f'{D_NAME} unexpected onsets')"
   ]
  },
  {
   "cell_type": "code",
   "execution_count": null,
   "metadata": {},
   "outputs": [],
   "source": [
    "x = D[D['min_distance'].notna()][\n",
    "    ((DF['string_position'] - 0.1).abs() < 0.05) &\n",
    "    (DF['unexpected_onsets'] > 0)\n",
    "]\n",
    "for r in x['onsets']:\n",
    "    print(r)\n",
    "# utils.plot_trials(x, x['unexpected_onsets'], actionspace= actionspace, cmap = sns.color_palette('icefire', as_cmap= True))"
   ]
  },
  {
   "cell_type": "code",
   "execution_count": null,
   "metadata": {},
   "outputs": [],
   "source": [
    "a = slice_animation(slice_var= 'keypoint_pos_y', plot_x= 'string_position',\n",
    "    data= DF,\n",
    "    grid= Grid,\n",
    "    plot_y= ('safety_score', 'safety_mean', 'safety_std')\n",
    ")\n",
    "u.save_anim(a, f'{D_NAME} safety score prediction slice along keypoint_pos_y')"
   ]
  },
  {
   "cell_type": "code",
   "execution_count": null,
   "metadata": {},
   "outputs": [],
   "source": [
    "_DF = DF.copy()\n",
    "_DF['safety_score'] += 0.5\n",
    "a = slice_animation(slice_var= 'string_position', plot_x= 'keypoint_pos_y',\n",
    "    data= _DF,\n",
    "    grid= Grid,\n",
    "    plot_y= ('safety_score', 'p_safety')\n",
    ")\n",
    "u.save_anim(a, f'{D_NAME} p_safe slice along string_position')"
   ]
  },
  {
   "cell_type": "code",
   "execution_count": null,
   "metadata": {},
   "outputs": [],
   "source": []
  }
 ],
 "metadata": {
  "kernelspec": {
   "display_name": "venv",
   "language": "python",
   "name": "python3"
  },
  "language_info": {
   "codemirror_mode": {
    "name": "ipython",
    "version": 3
   },
   "file_extension": ".py",
   "mimetype": "text/x-python",
   "name": "python",
   "nbconvert_exporter": "python",
   "pygments_lexer": "ipython3",
   "version": "3.8.10"
  },
  "orig_nbformat": 4
 },
 "nbformat": 4,
 "nbformat_minor": 2
}
